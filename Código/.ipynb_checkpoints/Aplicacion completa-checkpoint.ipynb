{
 "cells": [
  {
   "cell_type": "code",
   "execution_count": 1,
   "metadata": {},
   "outputs": [],
   "source": [
    "import math\n",
    "import numpy as np\n",
    "import matplotlib.pyplot as plt\n",
    "import cv2 as cv"
   ]
  },
  {
   "cell_type": "markdown",
   "metadata": {},
   "source": [
    "### Código para calcular la distancia geométrica entre un pixel y uno de sus vecinos."
   ]
  },
  {
   "cell_type": "code",
   "execution_count": 2,
   "metadata": {},
   "outputs": [],
   "source": [
    "def geoDist(x,y):\n",
    "    \n",
    "    (s,t) = x\n",
    "    (m,n) = y\n",
    "    \n",
    "    numD = np.power(m-s,2) + np.power(m-s,2)\n",
    "    denD = 2*np.power(10,2)\n",
    "    \n",
    "    return math.exp(((-1)*numD)/denD)"
   ]
  },
  {
   "cell_type": "markdown",
   "metadata": {},
   "source": [
    "### Código para calcular la diferencia de intensidad entre un pixel y uno de sus vecinos."
   ]
  },
  {
   "cell_type": "code",
   "execution_count": 3,
   "metadata": {},
   "outputs": [],
   "source": [
    "def intDif(gx,gy):\n",
    "    \n",
    "    numI = np.power((gx-gy),2)\n",
    "    denI = 2*np.power(6.7,2)\n",
    "    \n",
    "    return math.exp(((-1)*numI)/denI)"
   ]
  },
  {
   "cell_type": "markdown",
   "metadata": {},
   "source": [
    "### Código para calcular la similitud entre un pixel y uno de sus vecinos."
   ]
  },
  {
   "cell_type": "code",
   "execution_count": 4,
   "metadata": {},
   "outputs": [],
   "source": [
    "def simil(img,x,y):\n",
    "    \n",
    "    (s,t) = x\n",
    "    (m,n) = y\n",
    "    \n",
    "    gx = img[s,t]\n",
    "    gy = img[m,n]\n",
    "    \n",
    "    return geoDist(x,y)*intDif(gx,gy)"
   ]
  },
  {
   "cell_type": "markdown",
   "metadata": {},
   "source": [
    "### Código para calcular la similitud local de cada pixel en una matriz."
   ]
  },
  {
   "cell_type": "code",
   "execution_count": 5,
   "metadata": {},
   "outputs": [],
   "source": [
    "def imgSimil(img):\n",
    "    \n",
    "    imgS = img.copy()\n",
    "    \n",
    "    for s in range(img.shape[0]):\n",
    "        for t in range(img.shape[1]):\n",
    "            if s > 1 and s < img.shape[0]-2 and t > 1 and t < img.shape[1]-2:\n",
    "                nx = list()\n",
    "                for i in range(-2,3):\n",
    "                    for j in range(-2,3):\n",
    "                        if not i==j==0:\n",
    "                            nx.append((s+i,t+j))\n",
    "                dsetaX = 0\n",
    "                for y in nx:\n",
    "                    dsetaX += simil(img,(s,t),y)\n",
    "                imgS[s,t] = dsetaX\n",
    "            else:\n",
    "                imgS[s,t] = 0\n",
    "    \n",
    "    return imgS"
   ]
  },
  {
   "cell_type": "code",
   "execution_count": 6,
   "metadata": {},
   "outputs": [],
   "source": [
    "def imgLocalSimil(img, imgS):\n",
    "    \n",
    "    imgLS = img.copy()\n",
    "    \n",
    "    for s in range(img.shape[0]):\n",
    "        for t in range(img.shape[1]):\n",
    "            if s > 3 and s < img.shape[0]-4 and t > 3 and t < img.shape[1]-4:\n",
    "                nx = list()\n",
    "                for i in range(-2,3):\n",
    "                    for j in range(-2,3):\n",
    "                        if not i==j==0:\n",
    "                            nx.append((s+i,t+j))\n",
    "                dsetaY = 0\n",
    "                for y in nx:\n",
    "                    (m,n) = y\n",
    "                    dsetaY += imgS[m,n]\n",
    "                dsetaX = imgS[s,t]\n",
    "                medDsetaX = dsetaX / (dsetaY/24)\n",
    "                if medDsetaX > 2.5:\n",
    "                    imgLS[s,t] = 1\n",
    "                else:\n",
    "                    imgLS[s,t] = medDsetaX/2.5\n",
    "            else:\n",
    "                imgLS[s,t] = 0\n",
    "    \n",
    "    return imgLS"
   ]
  },
  {
   "cell_type": "markdown",
   "metadata": {},
   "source": [
    "### Código para calcular la región designada de cada pixel."
   ]
  },
  {
   "cell_type": "code",
   "execution_count": 7,
   "metadata": {},
   "outputs": [],
   "source": [
    "def pixReg(img,imgLS):\n",
    "    \n",
    "    w1 = 2\n",
    "    w2 = 4\n",
    "    tSigma = 0.12\n",
    "    \n",
    "    flatReg = list()\n",
    "    compReg = list()\n",
    "    \n",
    "    for s in range(img.shape[0]):\n",
    "        for t in range(img.shape[1]):\n",
    "            if s > 3 and s < img.shape[0]-4 and t > 3 and t < img.shape[1]-4:\n",
    "                nx = list()\n",
    "                for i in range(-2,3):\n",
    "                    for j in range(-2,3):\n",
    "                        if not i==j==0:\n",
    "                            nx.append((s+i,t+j))\n",
    "                a = 0\n",
    "                b = 0\n",
    "                for y in nx:\n",
    "                    (m,n) = y\n",
    "                    a += np.power(imgLS[m,n],w1)\n",
    "                    b += np.power(imgLS[m,n],w2)\n",
    "                miX = 0\n",
    "                for y in nx:\n",
    "                    (m,n) = y\n",
    "                    miX = (np.power(imgLS[m,n],w1)*img[m,n])/a\n",
    "                sigmaX = 0\n",
    "                for y in nx:\n",
    "                    (m,n) = y\n",
    "                    sigmaX = (np.power(imgLS[m,n],w2)*np.power(img[m,n]-miX,2))/b\n",
    "    \n",
    "                if sigmaX <= tSigma:\n",
    "                    flatReg.append((s,t))\n",
    "                else:\n",
    "                    compReg.append((s,t))\n",
    "    \n",
    "    return (flatReg,compReg)"
   ]
  },
  {
   "cell_type": "markdown",
   "metadata": {},
   "source": [
    "### Código para calcular la naturaleza de un pixel."
   ]
  },
  {
   "cell_type": "code",
   "execution_count": 8,
   "metadata": {},
   "outputs": [],
   "source": [
    "def pixNat(img,imgLS):\n",
    "    \n",
    "    noise = list()\n",
    "    clean = list()\n",
    "    \n",
    "    for s in range(img.shape[0]):\n",
    "        for t in range(img.shape[1]):\n",
    "            if s > 3 and s < img.shape[0]-4 and t > 3 and t < img.shape[1]-4:\n",
    "                nx = list()\n",
    "                for i in range(-2,3):\n",
    "                    for j in range(-2,3):\n",
    "                        if not i==j==0:\n",
    "                            nx.append((s+i,t+j))\n",
    "                iX = img[s,t]\n",
    "                yLS = list()\n",
    "                for y in nx:\n",
    "                    (m,n) = y\n",
    "                    yLS.append(imgLS[m,n])\n",
    "                iY = max(yLS)\n",
    "                \n",
    "                if iX - iY > 5:\n",
    "                    noise.append((s,t))\n",
    "                else:\n",
    "                    clean.append((s,t))\n",
    "    \n",
    "    return (noise,clean)"
   ]
  },
  {
   "cell_type": "markdown",
   "metadata": {},
   "source": [
    "### Código para calcular el nivel de ruido en la zona."
   ]
  },
  {
   "cell_type": "code",
   "execution_count": 9,
   "metadata": {},
   "outputs": [],
   "source": [
    "def noiseLvl(img,regiones,naturaleza):\n",
    "    \n",
    "    (flatReg,compReg) = regiones\n",
    "    (noise,clean) = naturaleza\n",
    "    \n",
    "    sigma = 0\n",
    "    \n",
    "    for x in range(10):\n",
    "        (s,t) = flatReg[x]\n",
    "        nx = list()\n",
    "        for i in range(-2,3):\n",
    "            for j in range(-2,3):\n",
    "                if not i==j==0:\n",
    "                    nx.append((s+i,t+j))\n",
    "        if flatReg[x] in noise:\n",
    "            n = 1\n",
    "            c = 0\n",
    "        elif flatReg[x] in clean:\n",
    "            n = 0\n",
    "            c = 1\n",
    "        for y in nx:\n",
    "            if y in noise:\n",
    "                n += 1\n",
    "            elif y in clean:\n",
    "                c += 1\n",
    "        sigma += n / (c+n)\n",
    "        \n",
    "    sigma = sigma/10\n",
    "    \n",
    "    thetaF = (-0.12)*np.power(sigma,3) + 0.07*np.power(sigma,2) + 0.75*sigma + 0.19\n",
    "    thetaC = 0.31*np.power(sigma,3) + 0.63*np.power(sigma,2) + 0.52*sigma + 0.03\n",
    "    \n",
    "    \n",
    "    return (thetaF,thetaC)"
   ]
  },
  {
   "cell_type": "markdown",
   "metadata": {},
   "source": [
    "### Código para catalogar de forma final los píxeles de la imagen."
   ]
  },
  {
   "cell_type": "code",
   "execution_count": 10,
   "metadata": {},
   "outputs": [],
   "source": [
    "def filtrado(img):\n",
    "    imgS = imgSimil(img)\n",
    "    imgLS = imgLocalSimil(img,imgS)\n",
    "    regiones = pixReg(img,imgLS)\n",
    "    naturaleza = pixNat(img,imgLS)\n",
    "    (thetaF,thetaC) = noiseLvl(img,regiones,naturaleza)\n",
    "    (flatR,compR) = regiones\n",
    "    pixelesR = list()\n",
    "    pixelesL = list()\n",
    "\n",
    "    for p in flatR:\n",
    "        (s,t) = p\n",
    "        lsp = imgLS[s,t]\n",
    "        if lsp <= thetaF:\n",
    "            pixelesR.append(p)\n",
    "        else:\n",
    "            pixelesL.append(p)\n",
    "    \n",
    "    for p in compR:\n",
    "        (s,t) = p\n",
    "        lsp = imgLS[s,t]\n",
    "        if lsp <= thetaC:\n",
    "            pixelesR.append(p)\n",
    "        else:\n",
    "            pixelesL.append(p)\n",
    "    \n",
    "    medF = cv.medianBlur(img,5)\n",
    "    gaussF = cv.GaussianBlur(medF,(5,5),0)\n",
    "\n",
    "    for s in range(img.shape[0]):\n",
    "        for t in range(img.shape[1]):\n",
    "            if (s == 0 or t == 0 or s == img.shape[0]-1 or t == img.shape[1]-1) and ((s,t) in pixelesR):\n",
    "                valor = img[s,t] - gaussF[s,t]\n",
    "                valorAb = abs(valor)\n",
    "                if valorAb <= 15:\n",
    "                    pixelesL.append((s,t))\n",
    "                    pixelesR.remove((s,t))\n",
    "    \n",
    "    return (pixelesR,pixelesL)"
   ]
  },
  {
   "cell_type": "markdown",
   "metadata": {},
   "source": [
    "### Código para calcular el valor de intensidad de un pixel ruidoso filtrado."
   ]
  },
  {
   "cell_type": "code",
   "execution_count": 11,
   "metadata": {},
   "outputs": [],
   "source": [
    "def valFinal(img,imgLS,ruidosos):\n",
    "    \n",
    "    resimg = img.copy()\n",
    "    \n",
    "    for s in range(img.shape[0]):\n",
    "        for t in range(img.shape[1]):\n",
    "            if s > 3 and s < img.shape[0]-4 and t > 3 and t < img.shape[1]-4 and (s,t) in ruidosos:\n",
    "                nx = list()\n",
    "                for i in range(-2,3):\n",
    "                    for j in range(-2,3):\n",
    "                        if not i==j==0:\n",
    "                            nx.append((s+i,t+j))\n",
    "                numG = 0\n",
    "                denG = 0\n",
    "                for y in nx:\n",
    "                    (m,n) = y\n",
    "                    lY = imgLS[m,n]\n",
    "                    if lY == 0:\n",
    "                        lY = 0.001\n",
    "                    numG += geoDist((s,t),y)*np.power(lY,2)*img[m,n]\n",
    "                    denG += geoDist((s,t),y)*np.power(lY,2)\n",
    "                resimg[s,t] = numG/denG\n",
    "                \n",
    "    return resimg"
   ]
  },
  {
   "cell_type": "markdown",
   "metadata": {},
   "source": [
    "### Código para calcular el PSNR de dos imagenes."
   ]
  },
  {
   "cell_type": "code",
   "execution_count": 12,
   "metadata": {},
   "outputs": [],
   "source": [
    "def psnr(imgO,imgR):\n",
    "    \n",
    "    mse = np.mean(np.power(imgO-imgR,2))\n",
    "    if mse == 0:\n",
    "        return 100\n",
    "    \n",
    "    psnr = 10*np.log10(np.power(255,2)/mse)\n",
    "    return psnr"
   ]
  },
  {
   "cell_type": "markdown",
   "metadata": {},
   "source": [
    "### Código de limpieza de imagenes con RVIN."
   ]
  },
  {
   "cell_type": "code",
   "execution_count": 13,
   "metadata": {},
   "outputs": [],
   "source": [
    "def limpiador(direccion):\n",
    "    \n",
    "    img = cv.imread(direccion, cv.IMREAD_GRAYSCALE)\n",
    "    imgO = img.copy()\n",
    "    imgS = imgSimil(img)\n",
    "    imgLS = imgLocalSimil(img,imgS)\n",
    "    (ruidosos,limpios) = filtrado(img)\n",
    "    \n",
    "    PSNRp = 0\n",
    "    PSNR = 1\n",
    "    \n",
    "    while PSNR > PSNRp:\n",
    "        PSNRp = PSNR\n",
    "        imgR = valFinal(imgO,imgLS,ruidosos)\n",
    "        PSNR = psnr(imgO,imgR)\n",
    "        imgO = imgR.copy()\n",
    "    \n",
    "    plt.imshow(imgR, cmap = 'gray')\n",
    "    plt.show"
   ]
  },
  {
   "cell_type": "code",
   "execution_count": 14,
   "metadata": {},
   "outputs": [
    {
     "name": "stderr",
     "output_type": "stream",
     "text": [
      "<ipython-input-3-d9fc303049c1>:3: RuntimeWarning: overflow encountered in ubyte_scalars\n",
      "  numI = np.power((gx-gy),2)\n",
      "<ipython-input-7-fa00085b6656>:27: RuntimeWarning: invalid value encountered in int_scalars\n",
      "  miX = (np.power(imgLS[m,n],w1)*img[m,n])/a\n"
     ]
    },
    {
     "ename": "KeyboardInterrupt",
     "evalue": "",
     "output_type": "error",
     "traceback": [
      "\u001b[1;31m---------------------------------------------------------------------------\u001b[0m",
      "\u001b[1;31mKeyboardInterrupt\u001b[0m                         Traceback (most recent call last)",
      "\u001b[1;32m<ipython-input-14-a7659cf0c291>\u001b[0m in \u001b[0;36m<module>\u001b[1;34m\u001b[0m\n\u001b[1;32m----> 1\u001b[1;33m \u001b[0mlimpiador\u001b[0m\u001b[1;33m(\u001b[0m\u001b[1;34m\"images/noise50_mandril_gray.png\"\u001b[0m\u001b[1;33m)\u001b[0m\u001b[1;33m\u001b[0m\u001b[1;33m\u001b[0m\u001b[0m\n\u001b[0m",
      "\u001b[1;32m<ipython-input-13-d2bdb9f9fb7e>\u001b[0m in \u001b[0;36mlimpiador\u001b[1;34m(direccion)\u001b[0m\n\u001b[0;32m     12\u001b[0m     \u001b[1;32mwhile\u001b[0m \u001b[0mPSNR\u001b[0m \u001b[1;33m>\u001b[0m \u001b[0mPSNRp\u001b[0m\u001b[1;33m:\u001b[0m\u001b[1;33m\u001b[0m\u001b[1;33m\u001b[0m\u001b[0m\n\u001b[0;32m     13\u001b[0m         \u001b[0mPSNRp\u001b[0m \u001b[1;33m=\u001b[0m \u001b[0mPSNR\u001b[0m\u001b[1;33m\u001b[0m\u001b[1;33m\u001b[0m\u001b[0m\n\u001b[1;32m---> 14\u001b[1;33m         \u001b[0mimgR\u001b[0m \u001b[1;33m=\u001b[0m \u001b[0mvalFinal\u001b[0m\u001b[1;33m(\u001b[0m\u001b[0mimgO\u001b[0m\u001b[1;33m,\u001b[0m\u001b[0mimgLS\u001b[0m\u001b[1;33m,\u001b[0m\u001b[0mruidosos\u001b[0m\u001b[1;33m)\u001b[0m\u001b[1;33m\u001b[0m\u001b[1;33m\u001b[0m\u001b[0m\n\u001b[0m\u001b[0;32m     15\u001b[0m         \u001b[0mPSNR\u001b[0m \u001b[1;33m=\u001b[0m \u001b[0mpsnr\u001b[0m\u001b[1;33m(\u001b[0m\u001b[0mimgO\u001b[0m\u001b[1;33m,\u001b[0m\u001b[0mimgR\u001b[0m\u001b[1;33m)\u001b[0m\u001b[1;33m\u001b[0m\u001b[1;33m\u001b[0m\u001b[0m\n\u001b[0;32m     16\u001b[0m         \u001b[0mimgO\u001b[0m \u001b[1;33m=\u001b[0m \u001b[0mimgR\u001b[0m\u001b[1;33m.\u001b[0m\u001b[0mcopy\u001b[0m\u001b[1;33m(\u001b[0m\u001b[1;33m)\u001b[0m\u001b[1;33m\u001b[0m\u001b[1;33m\u001b[0m\u001b[0m\n",
      "\u001b[1;32m<ipython-input-11-7316eaded815>\u001b[0m in \u001b[0;36mvalFinal\u001b[1;34m(img, imgLS, ruidosos)\u001b[0m\n\u001b[0;32m      6\u001b[0m         \u001b[1;32mfor\u001b[0m \u001b[0mt\u001b[0m \u001b[1;32min\u001b[0m \u001b[0mrange\u001b[0m\u001b[1;33m(\u001b[0m\u001b[0mimg\u001b[0m\u001b[1;33m.\u001b[0m\u001b[0mshape\u001b[0m\u001b[1;33m[\u001b[0m\u001b[1;36m1\u001b[0m\u001b[1;33m]\u001b[0m\u001b[1;33m)\u001b[0m\u001b[1;33m:\u001b[0m\u001b[1;33m\u001b[0m\u001b[1;33m\u001b[0m\u001b[0m\n\u001b[0;32m      7\u001b[0m             \u001b[1;32mif\u001b[0m \u001b[0ms\u001b[0m \u001b[1;33m>\u001b[0m \u001b[1;36m3\u001b[0m \u001b[1;32mand\u001b[0m \u001b[0ms\u001b[0m \u001b[1;33m<\u001b[0m \u001b[0mimg\u001b[0m\u001b[1;33m.\u001b[0m\u001b[0mshape\u001b[0m\u001b[1;33m[\u001b[0m\u001b[1;36m0\u001b[0m\u001b[1;33m]\u001b[0m\u001b[1;33m-\u001b[0m\u001b[1;36m4\u001b[0m \u001b[1;32mand\u001b[0m \u001b[0mt\u001b[0m \u001b[1;33m>\u001b[0m \u001b[1;36m3\u001b[0m \u001b[1;32mand\u001b[0m \u001b[0mt\u001b[0m \u001b[1;33m<\u001b[0m \u001b[0mimg\u001b[0m\u001b[1;33m.\u001b[0m\u001b[0mshape\u001b[0m\u001b[1;33m[\u001b[0m\u001b[1;36m1\u001b[0m\u001b[1;33m]\u001b[0m\u001b[1;33m-\u001b[0m\u001b[1;36m4\u001b[0m \u001b[1;32mand\u001b[0m \u001b[1;33m(\u001b[0m\u001b[0ms\u001b[0m\u001b[1;33m,\u001b[0m\u001b[0mt\u001b[0m\u001b[1;33m)\u001b[0m \u001b[1;32min\u001b[0m \u001b[0mruidosos\u001b[0m\u001b[1;33m:\u001b[0m\u001b[1;33m\u001b[0m\u001b[1;33m\u001b[0m\u001b[0m\n\u001b[1;32m----> 8\u001b[1;33m                 \u001b[0mnx\u001b[0m \u001b[1;33m=\u001b[0m \u001b[0mlist\u001b[0m\u001b[1;33m(\u001b[0m\u001b[1;33m)\u001b[0m\u001b[1;33m\u001b[0m\u001b[1;33m\u001b[0m\u001b[0m\n\u001b[0m\u001b[0;32m      9\u001b[0m                 \u001b[1;32mfor\u001b[0m \u001b[0mi\u001b[0m \u001b[1;32min\u001b[0m \u001b[0mrange\u001b[0m\u001b[1;33m(\u001b[0m\u001b[1;33m-\u001b[0m\u001b[1;36m2\u001b[0m\u001b[1;33m,\u001b[0m\u001b[1;36m3\u001b[0m\u001b[1;33m)\u001b[0m\u001b[1;33m:\u001b[0m\u001b[1;33m\u001b[0m\u001b[1;33m\u001b[0m\u001b[0m\n\u001b[0;32m     10\u001b[0m                     \u001b[1;32mfor\u001b[0m \u001b[0mj\u001b[0m \u001b[1;32min\u001b[0m \u001b[0mrange\u001b[0m\u001b[1;33m(\u001b[0m\u001b[1;33m-\u001b[0m\u001b[1;36m2\u001b[0m\u001b[1;33m,\u001b[0m\u001b[1;36m3\u001b[0m\u001b[1;33m)\u001b[0m\u001b[1;33m:\u001b[0m\u001b[1;33m\u001b[0m\u001b[1;33m\u001b[0m\u001b[0m\n",
      "\u001b[1;31mKeyboardInterrupt\u001b[0m: "
     ]
    }
   ],
   "source": [
    "limpiador(\"images/noise50_mandril_gray.png\")"
   ]
  },
  {
   "cell_type": "code",
   "execution_count": null,
   "metadata": {},
   "outputs": [],
   "source": []
  }
 ],
 "metadata": {
  "kernelspec": {
   "display_name": "Python 3",
   "language": "python",
   "name": "python3"
  },
  "language_info": {
   "codemirror_mode": {
    "name": "ipython",
    "version": 3
   },
   "file_extension": ".py",
   "mimetype": "text/x-python",
   "name": "python",
   "nbconvert_exporter": "python",
   "pygments_lexer": "ipython3",
   "version": "3.8.3"
  }
 },
 "nbformat": 4,
 "nbformat_minor": 4
}
