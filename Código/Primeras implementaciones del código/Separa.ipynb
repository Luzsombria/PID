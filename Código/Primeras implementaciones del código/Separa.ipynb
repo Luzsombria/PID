{
 "cells": [
  {
   "cell_type": "markdown",
   "metadata": {},
   "source": [
    "En este archivo implementaremos la separación de píxeles de las áreas planas y complejas."
   ]
  },
  {
   "cell_type": "code",
   "execution_count": 1,
   "metadata": {},
   "outputs": [],
   "source": [
    "#Definimos la función principal \"separa\". Esta función recibirá los dos siguientes datos:\n",
    "#similaridad local de los vecinos del pixel x y la intensidad de estos\n",
    "def separa(vecinosLS,vecinosG):\n",
    "    #Estos tres primeros valores son parámetros ajustables ya optimizados en el artículo\n",
    "    w1 = 2\n",
    "    w2 = 4\n",
    "    tSigma = 0.12\n",
    "    \n",
    "    #Procedemos a realizar los diferentes cálculos necesarios para nuestra criba\n",
    "    copia = []\n",
    "    res = \"\"\n",
    "    \n",
    "    #Calculamos a\n",
    "    for v in vecinosLS:\n",
    "        i = v^w1\n",
    "        copia.append(i)\n",
    "    a = sum(copia)\n",
    "    copia = []\n",
    "    \n",
    "    #Calculamos nu\n",
    "    for i in range(len(vecinosLS)):\n",
    "        j = vecinosLS[i]^w1\n",
    "        k = i*vecinosG[i]\n",
    "        copia.append(j/k)\n",
    "    nu = sum(copia)\n",
    "    copia = []\n",
    "    \n",
    "    #Calculamos b\n",
    "    for v in vecinosLS:\n",
    "        i = v^w2\n",
    "        copia.append(i)\n",
    "    b = sum(copia)\n",
    "    copia = []\n",
    "    \n",
    "    #Finalmente calculamos sigmaX\n",
    "    for i in range(len(vecinosLS)):\n",
    "        i = vecinosLS[i]^w2\n",
    "        d = (vecinosG[i]-nu)^2\n",
    "        j = i*d\n",
    "        copia.append(j/b)\n",
    "    sigmaX = sum(copia)\n",
    "    \n",
    "    #Ya solo queda normalizar\n",
    "    if sigmaX <= tSigma:\n",
    "        res = \"flat\"\n",
    "    else:\n",
    "        res = \"complex\"\n",
    "    \n",
    "    return res"
   ]
  },
  {
   "cell_type": "code",
   "execution_count": null,
   "metadata": {},
   "outputs": [],
   "source": []
  }
 ],
 "metadata": {
  "kernelspec": {
   "display_name": "Python 3",
   "language": "python",
   "name": "python3"
  },
  "language_info": {
   "codemirror_mode": {
    "name": "ipython",
    "version": 3
   },
   "file_extension": ".py",
   "mimetype": "text/x-python",
   "name": "python",
   "nbconvert_exporter": "python",
   "pygments_lexer": "ipython3",
   "version": "3.7.3"
  }
 },
 "nbformat": 4,
 "nbformat_minor": 2
}
