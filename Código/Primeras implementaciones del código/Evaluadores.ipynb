{
 "cells": [
  {
   "cell_type": "markdown",
   "metadata": {},
   "source": [
    "# Comprobantes de limpieza\n",
    "\n",
    "En esta clase se implementan varias funciones necesarias para determinar el porcentaje de limpieza realizado en una imagen."
   ]
  },
  {
   "cell_type": "code",
   "execution_count": 19,
   "metadata": {},
   "outputs": [],
   "source": [
    "import math\n",
    "import numpy as np"
   ]
  },
  {
   "cell_type": "code",
   "execution_count": 20,
   "metadata": {},
   "outputs": [],
   "source": [
    "# Esta función utiliza una imagen con ruido (imgO) junto a otra restaurada (imgR) para determinar\n",
    "# el ratio de relacion señal-ruido (PSNR) y el indice de medida de la similitud estructural (SSIM)\n",
    "# en la imagen procesada tras cada iteración de limpieza.\n",
    "def evaluadores(imgO, imgR, C1, C2):\n",
    "    \n",
    "    # Dimensiones de la imagen\n",
    "    M1 = imgO.shape[0]\n",
    "    M2 = imgO.shape[1]\n",
    "    \n",
    "    v = 0\n",
    "    # Calculo de la variación de intensidades entre el pixel original y el restaurado\n",
    "    for i in range(1,M1+1):\n",
    "        for j in range(1,M2+1):\n",
    "            v += imgO[i,j] - imgR[i,j]\n",
    "    \n",
    "    denPSNR = (1 / (M1*M2)) * v\n",
    "    \n",
    "    PSNR = 10 * math.log10(np.power(255,2)/denPSNR)\n",
    "    \n",
    "    # Media de los valores de las imagenes ruidosa y restaurada, respectivamente.\n",
    "    mux = imgO.mean()\n",
    "    muy = imgR.mean()\n",
    "    # Varianza de las imagenes de las imagenes ruidosa y restaurada asi como la covarianza entre ambas.\n",
    "    deltax = imgO.var()\n",
    "    deltay = imgR.var()\n",
    "    deltaxy = np.cov(imgO,imgR)\n",
    "    \n",
    "    numSSIM = (2*mux*muy+C1)*(2*deltaxy + C2)\n",
    "    denSSIM = (np.power(mux,2)+np.power(muy,2)+C1)*(deltax+deltay+C2)\n",
    "    \n",
    "    SSIM = numSSIM/denSSIM\n",
    "    \n",
    "    return PSNR, SSIM"
   ]
  }
 ],
 "metadata": {
  "kernelspec": {
   "display_name": "Python 3",
   "language": "python",
   "name": "python3"
  },
  "language_info": {
   "codemirror_mode": {
    "name": "ipython",
    "version": 3
   },
   "file_extension": ".py",
   "mimetype": "text/x-python",
   "name": "python",
   "nbconvert_exporter": "python",
   "pygments_lexer": "ipython3",
   "version": "3.8.3"
  }
 },
 "nbformat": 4,
 "nbformat_minor": 4
}
