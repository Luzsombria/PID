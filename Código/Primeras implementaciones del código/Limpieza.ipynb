{
 "cells": [
  {
   "cell_type": "code",
   "execution_count": 9,
   "metadata": {},
   "outputs": [],
   "source": [
    "import math\n",
    "import numpy as np\n",
    "import ipynb.fs.defs.Recuperacion as rec\n",
    "import ipynb.fs.defs.Evaluadores as eva\n",
    "import ipynb.fs.defs.CalculaLs as calcLS\n",
    "import ipynb.fs.defs.ConsigueUmbrales as conU\n",
    "import ipynb.fs.defs.Separa as separa\n",
    "import ipynb.fs.defs.FiltraPixeles as filP\n",
    "import cv2 as cv\n",
    "import matplotlib.pyplot as plt"
   ]
  },
  {
   "cell_type": "code",
   "execution_count": 10,
   "metadata": {},
   "outputs": [],
   "source": [
    "def limpia(img):\n",
    "    \n",
    "    imgO = img.copy()\n",
    "    \n",
    "    PSNR, SSIM = eva.evaluadores(img,img,C1,C2)\n",
    "    PSNRp = 0\n",
    "    \n",
    "    while PSNR >= PSRNp:\n",
    "        imgR = imgO.copy()\n",
    "        theta = 5\n",
    "        theta2 = 15\n",
    "        d = 10\n",
    "        ruidosos = primeraParte(imgO,theta,theta2,d)[0]\n",
    "        for i in range(2,imgO.shape[0]-2):\n",
    "            for j in range(2,imgO.shape[1]-2):\n",
    "                if imgO[i,j] in ruidosos:\n",
    "                    imgR[i,j] = rec.recuperacion(imgO,(i,j),imgO[i,j])\n",
    "        PSNRp = PSNR\n",
    "        PSNR, SSIM = eva.evaluadores(imgO,imgR,C1,C2)\n",
    "        imgO = imgR.copy()\n",
    "    \n",
    "    resimg = imgR.copy()\n",
    "    return resimg"
   ]
  }
 ],
 "metadata": {
  "kernelspec": {
   "display_name": "Python 3",
   "language": "python",
   "name": "python3"
  },
  "language_info": {
   "codemirror_mode": {
    "name": "ipython",
    "version": 3
   },
   "file_extension": ".py",
   "mimetype": "text/x-python",
   "name": "python",
   "nbconvert_exporter": "python",
   "pygments_lexer": "ipython3",
   "version": "3.8.3"
  }
 },
 "nbformat": 4,
 "nbformat_minor": 4
}
