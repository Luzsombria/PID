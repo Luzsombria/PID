{
 "cells": [
  {
   "cell_type": "markdown",
   "metadata": {},
   "source": [
    "Para cada región de la imagen con ruido mira las 'd' regiones planas, cada región con tamaño 'M'. Para cada área plana filtra los píxeles limpios de los ruidosos con 'theta'. Tras esto calcula la estimación de ruido y con esto calcula los umbrales de detección de ruido. Tanto 'theta' como 'd' y 'M' son variables empíricas."
   ]
  },
  {
   "cell_type": "code",
   "execution_count": null,
   "metadata": {},
   "outputs": [],
   "source": [
    "#Esta función es la encargada de calcular los umbrales de cada área concreta. Los datos de entrada son: \n",
    "#la intensidad de gris del pixel x central, la LS de los vecinos de x, la intensidad de gris de los\n",
    "#vecinos de x, las variables empírica 'theta' y 'd'\n",
    "def calculaSigma(pixelG,vecinosLS,vecinosG,theta,d):\n",
    "    \n",
    "    #Primero necesitamos aunar todos los píxeles\n",
    "    pixeles = vecinosG\n",
    "    pixeles.append(pixelG)\n",
    "    \n",
    "    #También necesitamos la intensidad del vecino con mayor LS\n",
    "    intensidadY = vecinosG(vecinosLS.index(max(vecinosLS)))\n",
    "    \n",
    "    #Variables auxiliares\n",
    "    pR = 0\n",
    "    pL = 0\n",
    "    \n",
    "    #Contamos los píxeles que pasan el filtro\n",
    "    for p in pixeles:\n",
    "        if (p-intensidadY)>theta:\n",
    "            pR += 1\n",
    "        else:\n",
    "            pL += 1\n",
    "    \n",
    "    #Preparamos la suma de sigma\n",
    "    operacion = 0\n",
    "    for i in range(d):\n",
    "        operacion = pR/(pR+pL)\n",
    "    \n",
    "    return operacion\n",
    "\n",
    "\n",
    "#Esta función calcula los sigmas de cada área plana y hace la media de estos para conseguir\n",
    "#el sigma final con el que calculamos los umbrales\n",
    "def umbrales(listaAreas,theta,d):\n",
    "    \n",
    "    sigmas = []\n",
    "    \n",
    "    #Recorremos los datos de entrada para realizar los cálculos\n",
    "    for i in range(d):\n",
    "        pixelG, vecinosLS, vecinosG = listaAreas[i]\n",
    "        sigmaArea = calculaSigma(pixelG,vecinosLS,vecinosG,theta,d)\n",
    "        sigmas.append(sigmaArea)\n",
    "    \n",
    "    #Terminamos el cálculo de sigma\n",
    "    sigma = sum(sigmas)/d\n",
    "    \n",
    "    #Finalmete calculamos los umbrales para las áreas complejas y las planas\n",
    "    umbralF = (-0.12)*sigma^3 + 0.07*sigma^2 + 0.75*sigma +0.19\n",
    "    umbralC = 0.31*sigma^3 + 0.63*sigma^2 + 0.52*sigma +0.03\n",
    "    \n",
    "    return (umbralF,umbralC)"
   ]
  }
 ],
 "metadata": {
  "kernelspec": {
   "display_name": "Python 3",
   "language": "python",
   "name": "python3"
  },
  "language_info": {
   "codemirror_mode": {
    "name": "ipython",
    "version": 3
   },
   "file_extension": ".py",
   "mimetype": "text/x-python",
   "name": "python",
   "nbconvert_exporter": "python",
   "pygments_lexer": "ipython3",
   "version": "3.7.3"
  }
 },
 "nbformat": 4,
 "nbformat_minor": 2
}
