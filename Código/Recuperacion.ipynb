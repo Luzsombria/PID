{
 "cells": [
  {
   "cell_type": "markdown",
   "metadata": {},
   "source": [
    "#  Recuperación de pixeles ruido\n",
    "\n",
    "En esta clase se implementa la función necesaria para recuperar los pixeles detectados en la primera fase."
   ]
  },
  {
   "cell_type": "code",
   "execution_count": 7,
   "metadata": {},
   "outputs": [],
   "source": [
    "import math\n",
    "import numpy as np\n",
    "import ipynb.fs.defs.CalculaLS as calcLS"
   ]
  },
  {
   "cell_type": "code",
   "execution_count": 11,
   "metadata": {},
   "outputs": [],
   "source": [
    "# Esta función auxiliar se encarga de calcular los valores necesarios para recuperar los pixeles.\n",
    "# Tiene una estructura muy parecida a la funcion LS usada en CalculoLS.\n",
    "def componentes(x,y,gx,gy):\n",
    "    \n",
    "    (s,t) = x\n",
    "    (m,n) = y\n",
    "    \n",
    "    sigmaD = 10\n",
    "    sigmaI = 6.7\n",
    "    \n",
    "    mx = (s+t)/2\n",
    "    my = (m+n)/2\n",
    "    \n",
    "    numD = -1*np.power(abs(mx-my),2)\n",
    "    denD = 2*np.power(sigmaD,2)\n",
    "    \n",
    "    D = math.exp(numD/denD)\n",
    "    \n",
    "    ny = list()\n",
    "    \n",
    "    for i in range(-2,3):\n",
    "        for j in range(-2,3):\n",
    "            if not (i==j==0):\n",
    "                ny.append((m+i,n+j))\n",
    "    \n",
    "    LS = calcLS.finalLS(y,ny)\n",
    "    \n",
    "    L = np.power(LS,2)\n",
    "    \n",
    "    return D,L"
   ]
  },
  {
   "cell_type": "code",
   "execution_count": 12,
   "metadata": {},
   "outputs": [],
   "source": [
    "# Esta función devuelve el valor gris del pixel de ruido previamente localizado.\n",
    "def recuperacion(img,x,gx):\n",
    "    \n",
    "    numG = 0\n",
    "    denG = 0\n",
    "    \n",
    "    (s,t) = x\n",
    "    \n",
    "    for i in range(-2,3):\n",
    "        for j in range(-2,3):\n",
    "            if not (i==j==0):\n",
    "                nx.append((s+i,t+j))\n",
    "    \n",
    "    for y in nx:\n",
    "        \n",
    "        (m,n) = y\n",
    "        gy = img[m,n]\n",
    "        \n",
    "        D,L = componentes(x,y,gx,gy)\n",
    "        \n",
    "        numG += abs(D*L*gy)\n",
    "        denG += abs(D*L)\n",
    "    \n",
    "    G = numG/denG\n",
    "    \n",
    "    return G"
   ]
  },
  {
   "cell_type": "code",
   "execution_count": null,
   "metadata": {},
   "outputs": [],
   "source": []
  }
 ],
 "metadata": {
  "kernelspec": {
   "display_name": "Python 3",
   "language": "python",
   "name": "python3"
  },
  "language_info": {
   "codemirror_mode": {
    "name": "ipython",
    "version": 3
   },
   "file_extension": ".py",
   "mimetype": "text/x-python",
   "name": "python",
   "nbconvert_exporter": "python",
   "pygments_lexer": "ipython3",
   "version": "3.8.3"
  }
 },
 "nbformat": 4,
 "nbformat_minor": 4
}
