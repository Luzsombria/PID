{
 "cells": [
  {
   "cell_type": "code",
   "execution_count": 4,
   "metadata": {},
   "outputs": [],
   "source": [
    "import math\n",
    "import numpy as np\n",
    "import matplotlib.pyplot as plt\n",
    "import cv2 as cv"
   ]
  },
  {
   "cell_type": "markdown",
   "metadata": {},
   "source": [
    "### Código para calcular la distancia geométrica entre un pixel y uno de sus vecinos."
   ]
  },
  {
   "cell_type": "code",
   "execution_count": 2,
   "metadata": {},
   "outputs": [],
   "source": [
    "def geoDist(x,y):\n",
    "    \n",
    "    (s,t) = x\n",
    "    (m,n) = y\n",
    "    \n",
    "    numD = np.power(((m+n)/2 - (s+t)/2),2) # DUDA IMPORTANTE\n",
    "    denD = 2*np.power(10,2)\n",
    "    \n",
    "    return math.exp(((-1)*numD)/denD)"
   ]
  },
  {
   "cell_type": "markdown",
   "metadata": {},
   "source": [
    "### Código para calcular la diferencia de intensidad entre un pixel y uno de sus vecinos."
   ]
  },
  {
   "cell_type": "code",
   "execution_count": 3,
   "metadata": {},
   "outputs": [],
   "source": [
    "def intDif(gx,gy):\n",
    "    \n",
    "    numI = np.power((gx-gy),2)\n",
    "    denI = 2*np.power(6.7,2)\n",
    "    \n",
    "    return math.exp(((-1)*numI)/denI)"
   ]
  },
  {
   "cell_type": "markdown",
   "metadata": {},
   "source": [
    "### Código para calcular la similitud entre un pixel y uno de sus vecinos."
   ]
  },
  {
   "cell_type": "code",
   "execution_count": 6,
   "metadata": {},
   "outputs": [],
   "source": [
    "def simil(img,x,y):\n",
    "    \n",
    "    (s,t) = x\n",
    "    (m,n) = y\n",
    "    \n",
    "    gx = img[s,t]\n",
    "    gy = img[m,n]\n",
    "    \n",
    "    return geoDist(x,y)*intDif(gx,gy)"
   ]
  },
  {
   "cell_type": "markdown",
   "metadata": {},
   "source": [
    "### Código para calcular la similitud local de cada pixel en una matriz."
   ]
  },
  {
   "cell_type": "code",
   "execution_count": 22,
   "metadata": {},
   "outputs": [],
   "source": [
    "def imgSimil(img):\n",
    "    \n",
    "    imgS = img.copy()\n",
    "    \n",
    "    for s in range(img.shape[0]):\n",
    "        for t in range(img.shape[1]):\n",
    "            if s > 1 and s < img.shape[0]-2 and t > 1 and t < img.shape[1]-2:\n",
    "                nx = list()\n",
    "                for i in range(-2,3):\n",
    "                    for j in range(-2,3):\n",
    "                        if not i==j==0:\n",
    "                            nx.append((s+i,t+j))\n",
    "                dsetaX = 0\n",
    "                for y in nx:\n",
    "                    dsetaX += simil(img,x,y)\n",
    "                imgS[s,t] = dsetaX\n",
    "            else:\n",
    "                imgS[s,t] = 0\n",
    "    \n",
    "    return imgS"
   ]
  },
  {
   "cell_type": "code",
   "execution_count": 24,
   "metadata": {},
   "outputs": [],
   "source": [
    "def imgLocalSimil(img, imgS):\n",
    "    \n",
    "    imgLS = img.copy()\n",
    "    \n",
    "    for s in range(img.shape[0]):\n",
    "        for t in range(img.shape[1]):\n",
    "            if s > 3 and s < img.shape[0]-4 and t > 3 and t < img.shape[1]-4:\n",
    "                nx = list()\n",
    "                for i in range(-2,3):\n",
    "                    for j in range(-2,3):\n",
    "                        if not i==j==0:\n",
    "                            nx.append((s+i,t+j))\n",
    "                dsetaY = 0\n",
    "                for y in nx:\n",
    "                    (m,n) = y\n",
    "                    dsetaY += imgS[m,n]\n",
    "                dsetaX = imgS[s,t]\n",
    "                medDsetaX = dsetaX / (dsetaY/24)\n",
    "                if medDsetaX > 2.5:\n",
    "                    imgLS[s,t] = 1\n",
    "                else:\n",
    "                    imgLS[s,t] = medDsetaX/2.5\n",
    "            else:\n",
    "                imgLS[s,t] = 0\n",
    "    \n",
    "    return imgLS"
   ]
  },
  {
   "cell_type": "markdown",
   "metadata": {},
   "source": [
    "### Código para calcular la región designada de cada pixel."
   ]
  },
  {
   "cell_type": "code",
   "execution_count": 2,
   "metadata": {},
   "outputs": [],
   "source": [
    "def pixReg(img,imgLS):\n",
    "    \n",
    "    w1 = 2\n",
    "    w2 = 4\n",
    "    tSigma = 0.12\n",
    "    \n",
    "    flatReg = list()\n",
    "    compReg = list()\n",
    "    \n",
    "    for s in range(img.shape[0]):\n",
    "        for t in range(img.shape[1]):\n",
    "            if s > 3 and s < img.shape[0]-4 and t > 3 and t < img.shape[1]-4:\n",
    "                nx = list()\n",
    "                for i in range(-2,3):\n",
    "                    for j in range(-2,3):\n",
    "                        if not i==j==0:\n",
    "                            nx.append((s+i,t+j))\n",
    "                a = 0\n",
    "                b = 0\n",
    "                for y in nx:\n",
    "                    (m,n) = y\n",
    "                    a += np.power(imgLS[m,n],w1)\n",
    "                    b += np.power(imgLS[m,n],w2)\n",
    "                miX = 0\n",
    "                for y in nx:\n",
    "                    (m,n) = y\n",
    "                    miX = (np.power(imgLS[m,n],w1)*img[m,n])/a\n",
    "                sigmaX = 0\n",
    "                for y in nx:\n",
    "                    (m,n) = y\n",
    "                    sigmaX = (np.power(imgLS[m,n],w2)*np.power(img[m,n]-miX,2))/b\n",
    "    \n",
    "                if sigmaX <= tSigma:\n",
    "                    flatReg.append((s,t))\n",
    "                else:\n",
    "                    compReg.append((s,t))\n",
    "    \n",
    "    return (flatReg,compReg)"
   ]
  },
  {
   "cell_type": "markdown",
   "metadata": {},
   "source": [
    "### Código para calcular la naturaleza de un pixel."
   ]
  },
  {
   "cell_type": "code",
   "execution_count": 4,
   "metadata": {},
   "outputs": [],
   "source": [
    "def pixNat(img,imgLS):\n",
    "    \n",
    "    noise = list()\n",
    "    clean = list()\n",
    "    \n",
    "    for s in range(img.shape[0]):\n",
    "        for t in range(img.shape[1]):\n",
    "            if s > 3 and s < img.shape[0]-4 and t > 3 and t < img.shape[1]-4:\n",
    "                nx = list()\n",
    "                for i in range(-2,3):\n",
    "                    for j in range(-2,3):\n",
    "                        if not i==j==0:\n",
    "                            nx.append((s+i,t+j))\n",
    "                iX = img[s,t]\n",
    "                yLS = list()\n",
    "                for y in nx:\n",
    "                    (m,n) = y\n",
    "                    yLS.append(imgLS[m,n])\n",
    "                iY = max(yLS)\n",
    "                \n",
    "                if iX - iY > 5:\n",
    "                    noise.append((s,t))\n",
    "                else:\n",
    "                    clean.append((s,t))\n",
    "    \n",
    "    return (noise,clean)"
   ]
  },
  {
   "cell_type": "markdown",
   "metadata": {},
   "source": [
    "### Código para calcular el nivel de ruido en la zona."
   ]
  },
  {
   "cell_type": "code",
   "execution_count": 5,
   "metadata": {},
   "outputs": [],
   "source": [
    "def noiseLvl(img,regiones,naturaleza):\n",
    "    \n",
    "    (flatReg,compReg) = regiones\n",
    "    (noise,clean) = naturaleza\n",
    "    \n",
    "    for x in range(10):\n",
    "        (s,t) = flatReg[x]\n",
    "        nx = list()\n",
    "        for i in range(-2,3):\n",
    "            for j in range(-2,3):\n",
    "                if not i==j==0:\n",
    "                    nx.append((s+i,t+j))\n",
    "        if flatReg[x] in noise:\n",
    "            n = 1\n",
    "            c = 0\n",
    "        elif flatReg[x] in clean:\n",
    "            n = 0\n",
    "            c = 1\n",
    "        for y in nx:\n",
    "            if y in noise:\n",
    "                n += 1\n",
    "            elif y in clean:\n",
    "                c += 1\n",
    "        sigma += n / (c+n)\n",
    "        \n",
    "    sigma = sigma/10\n",
    "    \n",
    "    thetaF = (-0.12)*np.power(sigma,3) + 0.07*np.power(sigma,2) + 0.75*sigma + 0.19\n",
    "    thetaC = 0.31*np.power(sigma,3) + 0.63*np.power(sigma,2) + 0.52*sigma + 0.03\n",
    "    \n",
    "    \n",
    "    return (thetaF,thetaC)"
   ]
  },
  {
   "source": [
    "### Código para catalogar de forma final los píxeles de la imagen."
   ],
   "cell_type": "markdown",
   "metadata": {}
  },
  {
   "cell_type": "code",
   "execution_count": 5,
   "metadata": {},
   "outputs": [],
   "source": [
    "def filtrado(img):\n",
    "    imgS = imgSimil(img)\n",
    "    imgLS = imgLocalSimil(img,imgS)\n",
    "    regiones = pixReg(img,imgLS)\n",
    "    naturaleza = pixNat(img,imgLS)\n",
    "    (thetaF,thetaC) = noiseLvl(img,regiones,naturaleza)\n",
    "    (flatR,compR) = regiones\n",
    "    pixelesR = list()\n",
    "    pixelesL = list()\n",
    "\n",
    "    for p in flatR:\n",
    "        (s,t) = p\n",
    "        lsp = imgLS[s,t]\n",
    "        if lsp <= thetaF:\n",
    "            pixelesR.append(p)\n",
    "        else:\n",
    "            pixelesL.append(p)\n",
    "    \n",
    "    for p in compR:\n",
    "        (s,t) = p\n",
    "        lsp = imgLS[s,t]\n",
    "        if lsp <= thetaC:\n",
    "            pixelesR.append(p)\n",
    "        else:\n",
    "            pixelesL.append(p)\n",
    "    \n",
    "    medF = cv.medianBlur(img)\n",
    "    gaussF = cv.GaussianBlur(medF)\n",
    "\n",
    "    for s in range(img.shape[0]):\n",
    "        for t in range(img.shape[1]):\n",
    "            if (s == 0 or t == 0 or s == img.shape[0]-1 or t == img.shape[1]-1) and ((s,t) in pixelesR):\n",
    "                valor = img[s,t] - gaussF[s,t]\n",
    "                valorAb = abs(valor)\n",
    "                if valorAb <= 15:\n",
    "                    pixelesL.append(s,t)\n",
    "                    pixelesR.remove(s,t)\n",
    "    \n",
    "    return (pixelesR,pixelesL)"
   ]
  },
  {
   "source": [
    "### Código para calcular el valor de intensidad de un pixel ruidoso filtrado."
   ],
   "cell_type": "markdown",
   "metadata": {}
  },
  {
   "cell_type": "code",
   "execution_count": 13,
   "metadata": {},
   "outputs": [],
   "source": [
    "def intVal(img,x):\n",
    "    \n",
    "   "
   ]
  },
  {
   "cell_type": "markdown",
   "metadata": {},
   "source": [
    "### Código para calcular el PSNR de dos imagenes."
   ]
  },
  {
   "cell_type": "code",
   "execution_count": 14,
   "metadata": {},
   "outputs": [],
   "source": [
    "def PSNR(imgO,imgR):\n",
    "    \n",
    "    mse = np.mean(np.power(imgO-imgR,2))\n",
    "    if mse == 0:\n",
    "        return 100\n",
    "    \n",
    "    psnr = 10*np.log10(np.power(255,2)/mse)\n",
    "    return psnr"
   ]
  },
  {
   "cell_type": "markdown",
   "metadata": {},
   "source": [
    "### Código para introducir RVIN en imagenes."
   ]
  },
  {
   "cell_type": "code",
   "execution_count": null,
   "metadata": {},
   "outputs": [],
   "source": [
    "cv.im"
   ]
  },
  {
   "cell_type": "markdown",
   "metadata": {},
   "source": [
    "### Código de limpieza de imagenes con RVIN."
   ]
  },
  {
   "cell_type": "code",
   "execution_count": 21,
   "metadata": {},
   "outputs": [
    {
     "data": {
      "text/plain": [
       "False"
      ]
     },
     "execution_count": 21,
     "metadata": {},
     "output_type": "execute_result"
    }
   ],
   "source": [
    "not (0 <= 1 and 1<=1)"
   ]
  },
  {
   "cell_type": "code",
   "execution_count": null,
   "metadata": {},
   "outputs": [],
   "source": []
  }
 ],
 "metadata": {
  "kernelspec": {
   "display_name": "Python 3",
   "language": "python",
   "name": "python3"
  },
  "language_info": {
   "codemirror_mode": {
    "name": "ipython",
    "version": 3
   },
   "file_extension": ".py",
   "mimetype": "text/x-python",
   "name": "python",
   "nbconvert_exporter": "python",
   "pygments_lexer": "ipython3",
   "version": "3.7.3-final"
  }
 },
 "nbformat": 4,
 "nbformat_minor": 4
}