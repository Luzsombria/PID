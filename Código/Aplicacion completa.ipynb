{
 "cells": [
  {
   "cell_type": "code",
   "execution_count": 153,
   "metadata": {},
   "outputs": [],
   "source": [
    "import math\n",
    "import numpy as np\n",
    "import matplotlib.pyplot as plt\n",
    "import cv2 as cv"
   ]
  },
  {
   "cell_type": "markdown",
   "metadata": {},
   "source": [
    "### Código para calcular la distancia geométrica entre un pixel y uno de sus vecinos."
   ]
  },
  {
   "cell_type": "code",
   "execution_count": 166,
   "metadata": {},
   "outputs": [],
   "source": [
    "def geoDist(x,y):\n",
    "    \n",
    "    (s,t) = x\n",
    "    (m,n) = y\n",
    "    \n",
    "    numD = (s-m)**2 + (t-n)**2\n",
    "    denD = 2*(10**2)\n",
    "    \n",
    "    return math.exp(((-1)*numD)/denD)"
   ]
  },
  {
   "cell_type": "markdown",
   "metadata": {},
   "source": [
    "### Código para calcular la diferencia de intensidad entre un pixel y uno de sus vecinos."
   ]
  },
  {
   "cell_type": "code",
   "execution_count": 155,
   "metadata": {},
   "outputs": [],
   "source": [
    "def intDif(gx,gy):\n",
    "    \n",
    "    numI = (gx-gy)**2\n",
    "    denI = 2*(6.7**2)\n",
    "    \n",
    "    return math.exp(((-1)*numI)/denI)"
   ]
  },
  {
   "cell_type": "markdown",
   "metadata": {},
   "source": [
    "### Código para calcular la similitud entre un pixel y uno de sus vecinos."
   ]
  },
  {
   "cell_type": "code",
   "execution_count": 156,
   "metadata": {},
   "outputs": [],
   "source": [
    "def simil(img,x,y):\n",
    "    \n",
    "    (s,t) = x\n",
    "    (m,n) = y\n",
    "    \n",
    "    gx = img[s,t]\n",
    "    gy = img[m,n]\n",
    "    \n",
    "    return geoDist(x,y)*intDif(gx,gy)"
   ]
  },
  {
   "cell_type": "markdown",
   "metadata": {},
   "source": [
    "### Código para calcular la similitud local de cada pixel en una matriz."
   ]
  },
  {
   "cell_type": "code",
   "execution_count": 157,
   "metadata": {},
   "outputs": [],
   "source": [
    "def imgSimil(img):\n",
    "    \n",
    "    imgS = img.copy()\n",
    "\n",
    "    posiciones = []\n",
    "    for x in range(-2,3):\n",
    "        for y in range(-2,3):\n",
    "            posiciones.append((y,x))\n",
    "    \n",
    "    for s in range(img.shape[0]):\n",
    "        for t in range(img.shape[1]):\n",
    "            nx = []\n",
    "            for p in posiciones:\n",
    "                (i,j) = p\n",
    "                if p!=(0,0):\n",
    "                    if s+i >= 0 and s+i <= img.shape[0]-1 and t+j >= 0 and t+j <= img.shape[1]-1:\n",
    "                        nx.append((s+i,t+j))\n",
    "            dsetaX = 0\n",
    "            for y in nx:\n",
    "                dsetaX += simil(img,(s,t),y)\n",
    "            imgS[s,t] = dsetaX\n",
    "    \n",
    "    return imgS"
   ]
  },
  {
   "cell_type": "code",
   "execution_count": 158,
   "metadata": {},
   "outputs": [],
   "source": [
    "def imgLocalSimil(img, imgS):\n",
    "    \n",
    "    imgLS = img.copy()\n",
    "\n",
    "    posiciones = []\n",
    "    for x in range(-2,3):\n",
    "        for y in range(-2,3):\n",
    "            posiciones.append((y,x))\n",
    "    \n",
    "    for s in range(img.shape[0]):\n",
    "        for t in range(img.shape[1]):\n",
    "            nx = []\n",
    "            for p in posiciones:\n",
    "                (i,j) = p\n",
    "                if p!=(0,0):\n",
    "                    if s+i >= 0 and s+i <= img.shape[0]-1 and t+j >= 0 and t+j <= img.shape[1]-1:\n",
    "                        nx.append((s+i,t+j))\n",
    "            dsetaY = 0\n",
    "            for y in nx:\n",
    "                (m,n) = y\n",
    "                dsetaY += imgS[m,n]\n",
    "            dsetaX = imgS[s,t]\n",
    "            medDsetaX = dsetaX / (dsetaY/(len(nx)))\n",
    "            if medDsetaX > 2.5:\n",
    "                imgLS[s,t] = 1\n",
    "            else:\n",
    "                imgLS[s,t] = medDsetaX/2.5\n",
    "    \n",
    "    return imgLS"
   ]
  },
  {
   "cell_type": "markdown",
   "metadata": {},
   "source": [
    "### Código para calcular la región designada de cada pixel."
   ]
  },
  {
   "cell_type": "code",
   "execution_count": 159,
   "metadata": {},
   "outputs": [],
   "source": [
    "def pixReg(img,imgLS):\n",
    "    \n",
    "    w1 = 2\n",
    "    w2 = 4\n",
    "    tSigma = 0.12\n",
    "    \n",
    "    flatReg = list()\n",
    "    compReg = list()\n",
    "\n",
    "    posiciones = []\n",
    "    for x in range(-2,3):\n",
    "        for y in range(-2,3):\n",
    "            posiciones.append((y,x))\n",
    "    \n",
    "    for s in range(img.shape[0]):\n",
    "        for t in range(img.shape[1]):\n",
    "            nx = []\n",
    "            for p in posiciones:\n",
    "                (i,j) = p\n",
    "                if p!=(0,0):\n",
    "                    if s+i >= 0 and s+i <= img.shape[0]-1 and t+j >= 0 and t+j <= img.shape[1]-1:\n",
    "                        nx.append((s+i,t+j))\n",
    "            a = 0\n",
    "            b = 0\n",
    "            for y in nx:\n",
    "                (m,n) = y\n",
    "                a += imgLS[m,n]**w1\n",
    "                b += imgLS[m,n]**w2\n",
    "            muX = 0\n",
    "            for y in nx:\n",
    "                (m,n) = y\n",
    "                muX += ((imgLS[m,n]**w1)*img[m,n])/a\n",
    "            sigmaX = 0\n",
    "            for y in nx:\n",
    "                (m,n) = y\n",
    "                sigmaX += ((imgLS[m,n]**w2)*((img[m,n]-muX)**2))/b\n",
    "\n",
    "            if sigmaX <= tSigma:\n",
    "                flatReg.append((s,t))\n",
    "            else:\n",
    "                compReg.append((s,t))\n",
    "    \n",
    "    return (flatReg,compReg)"
   ]
  },
  {
   "cell_type": "markdown",
   "metadata": {},
   "source": [
    "### Código para calcular la naturaleza de un pixel."
   ]
  },
  {
   "cell_type": "code",
   "execution_count": 160,
   "metadata": {},
   "outputs": [],
   "source": [
    "def pixNat(img,imgLS):\n",
    "    \n",
    "    noise = list()\n",
    "    clean = list()\n",
    "\n",
    "    posiciones = []\n",
    "    for x in range(-2,3):\n",
    "        for y in range(-2,3):\n",
    "            posiciones.append((y,x))\n",
    "    \n",
    "    for s in range(img.shape[0]):\n",
    "        for t in range(img.shape[1]):\n",
    "            nx = []\n",
    "            for p in posiciones:\n",
    "                (i,j) = p\n",
    "                if p!=(0,0):\n",
    "                    if s+i >= 0 and s+i <= img.shape[0]-1 and t+j >= 0 and t+j <= img.shape[1]-1:\n",
    "                        nx.append((s+i,t+j))\n",
    "            iX = img[s,t]\n",
    "            yLS = list()\n",
    "            yIntensidades = []\n",
    "            for y in nx:\n",
    "                (m,n) = y\n",
    "                yLS.append(imgLS[m,n])\n",
    "                yIntensidades.append((m,n))\n",
    "            ind = yLS.index(max(yLS))\n",
    "            (m,n) = yIntensidades[ind]\n",
    "            iY = img[m,n]\n",
    "            \n",
    "            if abs(iX - iY) > 5:\n",
    "                noise.append((s,t))\n",
    "            else:\n",
    "                clean.append((s,t))\n",
    "    \n",
    "    return (noise,clean)"
   ]
  },
  {
   "cell_type": "markdown",
   "metadata": {},
   "source": [
    "### Código para calcular el nivel de ruido en la zona."
   ]
  },
  {
   "cell_type": "code",
   "execution_count": 161,
   "metadata": {},
   "outputs": [],
   "source": [
    "def noiseLvl(img,regiones,naturaleza):\n",
    "    \n",
    "    (flatReg,compReg) = regiones\n",
    "    (noise,clean) = naturaleza\n",
    "    \n",
    "    sigma = 0\n",
    "    acum = []\n",
    "    \n",
    "    posiciones = []\n",
    "    for x in range(-2,3):\n",
    "        for y in range(-2,3):\n",
    "            posiciones.append((y,x))\n",
    "\n",
    "    if len(flatReg)==0:\n",
    "        acum.append(0.60)\n",
    "    elif len(flatReg)<10:\n",
    "        for pix in range(10):\n",
    "            (s,t) = flatReg[pix]\n",
    "            nx = []\n",
    "            for p in posiciones:\n",
    "                (i,j) = p\n",
    "                if p!=(0,0):\n",
    "                    if s+i >= 0 and s+i <= img.shape[0]-1 and t+j >= 0 and t+j <= img.shape[1]-1:\n",
    "                        nx.append((s+i,t+j))\n",
    "            if flatReg[x] in noise:\n",
    "                n = 1\n",
    "                c = 0\n",
    "            elif flatReg[x] in clean:\n",
    "                n = 0\n",
    "                c = 1\n",
    "            for y in nx:\n",
    "                if y in noise:\n",
    "                    n += 1\n",
    "                elif y in clean:\n",
    "                    c += 1\n",
    "            calculo = n / (c+n)\n",
    "            acum.append(calculo)\n",
    "    else:\n",
    "        for pix in range(10):\n",
    "            (s,t) = flatReg[pix]\n",
    "            nx = []\n",
    "            for p in posiciones:\n",
    "                (i,j) = p\n",
    "                if p!=(0,0):\n",
    "                    if s+i >= 0 and s+i <= img.shape[0]-1 and t+j >= 0 and t+j <= img.shape[1]-1:\n",
    "                        nx.append((s+i,t+j))\n",
    "            if flatReg[x] in noise:\n",
    "                n = 1\n",
    "                c = 0\n",
    "            elif flatReg[x] in clean:\n",
    "                n = 0\n",
    "                c = 1\n",
    "            for y in nx:\n",
    "                if y in noise:\n",
    "                    n += 1\n",
    "                elif y in clean:\n",
    "                    c += 1\n",
    "            calculo = n / (c+n)\n",
    "            acum.append(calculo)\n",
    "    sigma = sum(acum)/len(acum)\n",
    "    \n",
    "    print(\"Num. flat y comp reg:\")\n",
    "    print(len(flatReg))\n",
    "    print(len(compReg))\n",
    "    print(acum)\n",
    "    print(sigma)\n",
    "\n",
    "    thetaF = (-0.12)*(sigma**3) + 0.07*(sigma**2) + 0.75*sigma + 0.19\n",
    "    thetaC = 0.31*(sigma**3) + 0.63*(sigma**2) + 0.52*sigma + 0.03\n",
    "    \n",
    "    \n",
    "    return (thetaF,thetaC)"
   ]
  },
  {
   "source": [
    "### Código para catalogar de forma final los píxeles de la imagen."
   ],
   "cell_type": "markdown",
   "metadata": {}
  },
  {
   "cell_type": "code",
   "execution_count": 162,
   "metadata": {},
   "outputs": [],
   "source": [
    "def filtrado(img,imgLS):\n",
    "    regiones = pixReg(img,imgLS)\n",
    "    naturaleza = pixNat(img,imgLS)\n",
    "    (thetaF,thetaC) = noiseLvl(img,regiones,naturaleza)\n",
    "    (flatR,compR) = regiones\n",
    "    pixelesR = list()\n",
    "    pixelesL = list()\n",
    "\n",
    "    for p in flatR:\n",
    "        (s,t) = p\n",
    "        lsp = imgLS[s,t]\n",
    "        if lsp <= thetaF:\n",
    "            pixelesR.append(p)\n",
    "        else:\n",
    "            pixelesL.append(p)\n",
    "    \n",
    "    for p in compR:\n",
    "        (s,t) = p\n",
    "        lsp = imgLS[s,t]\n",
    "        if lsp <= thetaC:\n",
    "            pixelesR.append(p)\n",
    "        else:\n",
    "            pixelesL.append(p)\n",
    "    \n",
    "    medF = cv.medianBlur(img,5)\n",
    "    gaussF = cv.GaussianBlur(medF,(5,5),0)\n",
    "\n",
    "    for p in pixelesR:\n",
    "        (s,t) = p\n",
    "        if s == 0 or t == 0 or s == img.shape[0]-1 or t == img.shape[1]-1:\n",
    "            valor = img[s,t] - gaussF[s,t]\n",
    "            valorAb = abs(valor)\n",
    "            if valorAb <= 15:\n",
    "                pixelesL.append((s,t))\n",
    "                pixelesR.remove((s,t))\n",
    "    \n",
    "    \n",
    "    return (pixelesR,pixelesL)"
   ]
  },
  {
   "cell_type": "markdown",
   "metadata": {},
   "source": [
    "### Código para calcular el valor de intensidad de un pixel ruidoso filtrado."
   ]
  },
  {
   "cell_type": "code",
   "execution_count": 163,
   "metadata": {},
   "outputs": [],
   "source": [
    "def valFinal(img,imgLS,ruidosos):\n",
    "    \n",
    "    resimg = img.copy()\n",
    "\n",
    "    posiciones = []\n",
    "    for x in range(-2,3):\n",
    "        for y in range(-2,3):\n",
    "            posiciones.append((y,x))\n",
    "    \n",
    "    for r in ruidosos:\n",
    "        (s,t) = r\n",
    "        nx = []\n",
    "        for p in posiciones:\n",
    "            (i,j) = p\n",
    "            if p!=(0,0):\n",
    "                if s+i >= 0 and s+i <= img.shape[0]-1 and t+j >= 0 and t+j <= img.shape[1]-1:\n",
    "                    nx.append((s+i,t+j))\n",
    "        numG = 0\n",
    "        denG = 0\n",
    "        for y in nx:\n",
    "            (m,n) = y\n",
    "            lY = imgLS[m,n]\n",
    "            if lY == 0:\n",
    "                lY = 0.1\n",
    "            numG += geoDist((s,t),y)*(lY**2)*img[m,n]\n",
    "            denG += geoDist((s,t),y)*(lY**2)\n",
    "        calculo = numG/denG\n",
    "        resimg[s,t] = calculo\n",
    "                \n",
    "    return resimg"
   ]
  },
  {
   "cell_type": "markdown",
   "metadata": {},
   "source": [
    "### Código de limpieza de imagenes con RVIN."
   ]
  },
  {
   "cell_type": "code",
   "execution_count": 164,
   "metadata": {},
   "outputs": [],
   "source": [
    "def limpiador(direccion):\n",
    "    \n",
    "    img = cv.imread(direccion, cv.IMREAD_GRAYSCALE)\n",
    "    imgO = img.copy()\n",
    "    imgS = imgSimil(img)\n",
    "    imgLS = imgLocalSimil(img,imgS)\n",
    "    (ruidosos,limpios) = filtrado(img,imgLS)\n",
    "    \n",
    "    PSNRp = 0\n",
    "    PSNRim = 1\n",
    "    acum = 0\n",
    "    \n",
    "    while PSNRim > PSNRp:\n",
    "        acum += 1\n",
    "        PSNRp = PSNRim\n",
    "        imgR = valFinal(img,imgLS,ruidosos)\n",
    "        PSNRim = cv.PSNR(imgO,imgR)\n",
    "        imgO = imgR\n",
    "        if acum > 9:\n",
    "            PSNRp += PSNRim\n",
    "    return imgO"
   ]
  },
  {
   "cell_type": "code",
   "execution_count": 165,
   "metadata": {
    "tags": []
   },
   "outputs": [
    {
     "output_type": "stream",
     "name": "stdout",
     "text": [
      "Num. flat y comp reg:\n18657\n243487\n[0.7777777777777778, 0.9166666666666666, 0.8666666666666667, 0.9333333333333333, 0.9333333333333333, 0.9333333333333333, 0.8666666666666667, 0.8666666666666667, 0.9333333333333333, 0.9333333333333333]\n0.8961111111111112\n"
     ]
    }
   ],
   "source": [
    "imL = limpiador(\"images/noise60_lena_gray.png\")\n",
    "imO = cv.imread(\"images/noise60_lena_gray.png\", cv.IMREAD_GRAYSCALE)\n",
    "cv.imwrite(\"images/clean60_lena_gray.png\",imL)\n",
    "cv.imshow(\"Imagen con ruido\",imO)\n",
    "cv.imshow('Imagen arreglada',imL)\n",
    "cv.waitKey(0)\n",
    "cv.destroyAllWindows()"
   ]
  },
  {
   "cell_type": "code",
   "execution_count": null,
   "metadata": {},
   "outputs": [],
   "source": []
  }
 ],
 "metadata": {
  "kernelspec": {
   "display_name": "Python 3",
   "language": "python",
   "name": "python3"
  },
  "language_info": {
   "codemirror_mode": {
    "name": "ipython",
    "version": 3
   },
   "file_extension": ".py",
   "mimetype": "text/x-python",
   "name": "python",
   "nbconvert_exporter": "python",
   "pygments_lexer": "ipython3",
   "version": "3.7.3-final"
  }
 },
 "nbformat": 4,
 "nbformat_minor": 4
}