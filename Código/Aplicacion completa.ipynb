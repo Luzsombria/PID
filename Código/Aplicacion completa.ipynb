{
 "cells": [
  {
   "cell_type": "code",
   "execution_count": 83,
   "metadata": {},
   "outputs": [],
   "source": [
    "import math\n",
    "import numpy as np\n",
    "import matplotlib.pyplot as plt\n",
    "import cv2 as cv\n",
    "from PIL import Image\n"
   ]
  },
  {
   "cell_type": "markdown",
   "metadata": {},
   "source": [
    "### Código para calcular la distancia geométrica entre un pixel y uno de sus vecinos."
   ]
  },
  {
   "cell_type": "code",
   "execution_count": 70,
   "metadata": {},
   "outputs": [],
   "source": [
    "def geoDist(x,y):\n",
    "    \n",
    "    (s,t) = x\n",
    "    (m,n) = y\n",
    "    \n",
    "    numD = (m-s)**2 + (n-t)**2\n",
    "    denD = 2*(10**2)\n",
    "    \n",
    "    return math.exp(((-1)*numD)/denD)"
   ]
  },
  {
   "cell_type": "markdown",
   "metadata": {},
   "source": [
    "### Código para calcular la diferencia de intensidad entre un pixel y uno de sus vecinos."
   ]
  },
  {
   "cell_type": "code",
   "execution_count": 71,
   "metadata": {},
   "outputs": [],
   "source": [
    "def intDif(gx,gy):\n",
    "    \n",
    "    numI = (gx-gy)**2\n",
    "    denI = 2*(6.7**2)\n",
    "    \n",
    "    return math.exp(((-1)*numI)/denI)"
   ]
  },
  {
   "cell_type": "markdown",
   "metadata": {},
   "source": [
    "### Código para calcular la similitud entre un pixel y uno de sus vecinos."
   ]
  },
  {
   "cell_type": "code",
   "execution_count": 72,
   "metadata": {},
   "outputs": [],
   "source": [
    "def simil(img,x,y):\n",
    "    \n",
    "    (s,t) = x\n",
    "    (m,n) = y\n",
    "    \n",
    "    gx = img[s,t]\n",
    "    gy = img[m,n]\n",
    "    \n",
    "    return geoDist(x,y)*intDif(gx,gy)"
   ]
  },
  {
   "cell_type": "markdown",
   "metadata": {},
   "source": [
    "### Código para calcular la similitud local de cada pixel en una matriz."
   ]
  },
  {
   "cell_type": "code",
   "execution_count": 73,
   "metadata": {},
   "outputs": [],
   "source": [
    "def imgSimil(img):\n",
    "    \n",
    "    imgS = img.copy()\n",
    "\n",
    "    posiciones = []\n",
    "    for x in range(-2,3):\n",
    "        for y in range(-2,3):\n",
    "            posiciones.append((y,x))\n",
    "    \n",
    "    for s in range(img.shape[0]):\n",
    "        for t in range(img.shape[1]):\n",
    "            if s > 1 and s < img.shape[0]-2 and t > 1 and t < img.shape[1]-2:\n",
    "                nx = []\n",
    "                for p in posiciones:\n",
    "                    (i,j) = p\n",
    "                    if p!=(0,0):\n",
    "                        nx.append((s+i,t+j))\n",
    "                dsetaX = 0\n",
    "                for y in nx:\n",
    "                    dsetaX += simil(img,(s,t),y)\n",
    "                imgS[s,t] = dsetaX\n",
    "            else:\n",
    "                imgS[s,t] = 0\n",
    "    \n",
    "    return imgS"
   ]
  },
  {
   "cell_type": "code",
   "execution_count": 74,
   "metadata": {},
   "outputs": [],
   "source": [
    "def imgLocalSimil(img, imgS):\n",
    "    \n",
    "    imgLS = img.copy()\n",
    "\n",
    "    posiciones = []\n",
    "    for x in range(-2,3):\n",
    "        for y in range(-2,3):\n",
    "            posiciones.append((y,x))\n",
    "    \n",
    "    for s in range(img.shape[0]):\n",
    "        for t in range(img.shape[1]):\n",
    "            if s > 3 and s < img.shape[0]-4 and t > 3 and t < img.shape[1]-4:\n",
    "                nx = []\n",
    "                for p in posiciones:\n",
    "                    (i,j) = p\n",
    "                    if p!=(0,0):\n",
    "                        nx.append((s+i,t+j))\n",
    "                dsetaY = 0\n",
    "                for y in nx:\n",
    "                    (m,n) = y\n",
    "                    dsetaY += imgS[m,n]\n",
    "                dsetaX = imgS[s,t]\n",
    "                medDsetaX = dsetaX / (dsetaY/24)\n",
    "                if medDsetaX > 2.5:\n",
    "                    imgLS[s,t] = 1\n",
    "                else:\n",
    "                    imgLS[s,t] = medDsetaX/2.5\n",
    "            else:\n",
    "                imgLS[s,t] = 0\n",
    "    \n",
    "    return imgLS"
   ]
  },
  {
   "cell_type": "markdown",
   "metadata": {},
   "source": [
    "### Código para calcular la región designada de cada pixel."
   ]
  },
  {
   "cell_type": "code",
   "execution_count": 75,
   "metadata": {},
   "outputs": [],
   "source": [
    "def pixReg(img,imgLS):\n",
    "    \n",
    "    w1 = 2\n",
    "    w2 = 4\n",
    "    tSigma = 0.12\n",
    "    \n",
    "    flatReg = list()\n",
    "    compReg = list()\n",
    "\n",
    "    posiciones = []\n",
    "    for x in range(-2,3):\n",
    "        for y in range(-2,3):\n",
    "            posiciones.append((y,x))\n",
    "    \n",
    "    for s in range(img.shape[0]):\n",
    "        for t in range(img.shape[1]):\n",
    "            if s > 3 and s < img.shape[0]-4 and t > 3 and t < img.shape[1]-4:\n",
    "                nx = []\n",
    "                for p in posiciones:\n",
    "                    (i,j) = p\n",
    "                    if p!=(0,0):\n",
    "                        nx.append((s+i,t+j))\n",
    "                a = 0\n",
    "                b = 0\n",
    "                for y in nx:\n",
    "                    (m,n) = y\n",
    "                    a += imgLS[m,n]**w1\n",
    "                    b += imgLS[m,n]**w2\n",
    "                muX = 0\n",
    "                for y in nx:\n",
    "                    (m,n) = y\n",
    "                    muX = ((imgLS[m,n]**w1)*img[m,n])/a\n",
    "                sigmaX = 0\n",
    "                for y in nx:\n",
    "                    (m,n) = y\n",
    "                    sigmaX = ((imgLS[m,n]**w2)*((img[m,n]-muX)**2))/b\n",
    "    \n",
    "                if sigmaX <= tSigma:\n",
    "                    flatReg.append((s,t))\n",
    "                else:\n",
    "                    compReg.append((s,t))\n",
    "    \n",
    "    return (flatReg,compReg)"
   ]
  },
  {
   "cell_type": "markdown",
   "metadata": {},
   "source": [
    "### Código para calcular la naturaleza de un pixel."
   ]
  },
  {
   "cell_type": "code",
   "execution_count": 76,
   "metadata": {},
   "outputs": [],
   "source": [
    "def pixNat(img,imgLS):\n",
    "    \n",
    "    noise = list()\n",
    "    clean = list()\n",
    "\n",
    "    posiciones = []\n",
    "    for x in range(-2,3):\n",
    "        for y in range(-2,3):\n",
    "            posiciones.append((y,x))\n",
    "    \n",
    "    for s in range(img.shape[0]):\n",
    "        for t in range(img.shape[1]):\n",
    "            if s > 3 and s < img.shape[0]-4 and t > 3 and t < img.shape[1]-4:\n",
    "                nx = []\n",
    "                for p in posiciones:\n",
    "                    (i,j) = p\n",
    "                    if p!=(0,0):\n",
    "                        nx.append((s+i,t+j))\n",
    "                iX = img[s,t]\n",
    "                yLS = list()\n",
    "                for y in nx:\n",
    "                    (m,n) = y\n",
    "                    yLS.append(imgLS[m,n])\n",
    "                iY = max(yLS)\n",
    "                \n",
    "                if iX - iY > 5:\n",
    "                    noise.append((s,t))\n",
    "                else:\n",
    "                    clean.append((s,t))\n",
    "    \n",
    "    return (noise,clean)"
   ]
  },
  {
   "cell_type": "markdown",
   "metadata": {},
   "source": [
    "### Código para calcular el nivel de ruido en la zona."
   ]
  },
  {
   "cell_type": "code",
   "execution_count": 77,
   "metadata": {},
   "outputs": [],
   "source": [
    "def noiseLvl(img,regiones,naturaleza):\n",
    "    \n",
    "    (flatReg,compReg) = regiones\n",
    "    (noise,clean) = naturaleza\n",
    "    \n",
    "    sigma = 0\n",
    "    \n",
    "    posiciones = []\n",
    "    for x in range(-2,3):\n",
    "        for y in range(-2,3):\n",
    "            posiciones.append((y,x))\n",
    "\n",
    "    for x in range(10):\n",
    "        (s,t) = flatReg[x]\n",
    "        nx = []\n",
    "        for p in posiciones:\n",
    "            (i,j) = p\n",
    "            if p!=(0,0):\n",
    "                nx.append((s+i,t+j))\n",
    "        if flatReg[x] in noise:\n",
    "            n = 1\n",
    "            c = 0\n",
    "        elif flatReg[x] in clean:\n",
    "            n = 0\n",
    "            c = 1\n",
    "        for y in nx:\n",
    "            if y in noise:\n",
    "                n += 1\n",
    "            elif y in clean:\n",
    "                c += 1\n",
    "        sigma += n / (c+n)\n",
    "        \n",
    "    sigma = sigma/10\n",
    "    \n",
    "    thetaF = (-0.12)*(sigma**3) + 0.07*(sigma**2) + 0.75*sigma + 0.19\n",
    "    thetaC = 0.31*(sigma**3) + 0.63*(sigma**2) + 0.52*sigma + 0.03\n",
    "    \n",
    "    \n",
    "    return (thetaF,thetaC)"
   ]
  },
  {
   "cell_type": "markdown",
   "metadata": {},
   "source": [
    "### Código para catalogar de forma final los píxeles de la imagen."
   ]
  },
  {
   "cell_type": "code",
   "execution_count": 78,
   "metadata": {},
   "outputs": [],
   "source": [
    "def filtrado(img,imgLS):\n",
    "    regiones = pixReg(img,imgLS)\n",
    "    naturaleza = pixNat(img,imgLS)\n",
    "    (thetaF,thetaC) = noiseLvl(img,regiones,naturaleza)\n",
    "    (flatR,compR) = regiones\n",
    "    pixelesR = list()\n",
    "    pixelesL = list()\n",
    "\n",
    "    for p in flatR:\n",
    "        (s,t) = p\n",
    "        lsp = imgLS[s,t]\n",
    "        if lsp <= thetaF:\n",
    "            pixelesR.append(p)\n",
    "        else:\n",
    "            pixelesL.append(p)\n",
    "    \n",
    "    for p in compR:\n",
    "        (s,t) = p\n",
    "        lsp = imgLS[s,t]\n",
    "        if lsp <= thetaC:\n",
    "            pixelesR.append(p)\n",
    "        else:\n",
    "            pixelesL.append(p)\n",
    "    \n",
    "    medF = cv.medianBlur(img,5)\n",
    "    gaussF = cv.GaussianBlur(medF,(5,5),0)\n",
    "\n",
    "    for s in range(img.shape[0]):\n",
    "        for t in range(img.shape[1]):\n",
    "            if (s == 0 or t == 0 or s == img.shape[0]-1 or t == img.shape[1]-1) and ((s,t) in pixelesR):\n",
    "                valor = img[s,t] - gaussF[s,t]\n",
    "                valorAb = abs(valor)\n",
    "                if valorAb <= 15:\n",
    "                    pixelesL.append((s,t))\n",
    "                    pixelesR.remove((s,t))\n",
    "    \n",
    "    return (pixelesR,pixelesL)"
   ]
  },
  {
   "cell_type": "markdown",
   "metadata": {},
   "source": [
    "### Código para calcular el valor de intensidad de un pixel ruidoso filtrado."
   ]
  },
  {
   "cell_type": "code",
   "execution_count": 79,
   "metadata": {},
   "outputs": [],
   "source": [
    "def valFinal(img,imgLS,ruidosos):\n",
    "    \n",
    "    resimg = img.copy()\n",
    "    rLimpiados = img.copy()\n",
    "\n",
    "    posiciones = []\n",
    "    for x in range(-2,3):\n",
    "        for y in range(-2,3):\n",
    "            posiciones.append((y,x))\n",
    "    \n",
    "    for r in ruidosos:\n",
    "        (s,t) = r\n",
    "        if s > 3 and s < img.shape[0]-4 and t > 3 and t < img.shape[1]-4:\n",
    "            nx = []\n",
    "            for p in posiciones:\n",
    "                (i,j) = p\n",
    "                if p!=(0,0):\n",
    "                    nx.append((s+i,t+j))\n",
    "            numG = 0\n",
    "            denG = 0\n",
    "            for y in nx:\n",
    "                (m,n) = y\n",
    "                lY = imgLS[m,n]\n",
    "                if lY == 0:\n",
    "                    lY = 0.001\n",
    "                numG += geoDist((s,t),y)*(lY**2)*img[m,n]\n",
    "                denG += geoDist((s,t),y)*(lY**2)\n",
    "            calculo = numG/denG\n",
    "            rLimpiados[s,t] = calculo\n",
    "    \n",
    "    for s in range(img.shape[0]):\n",
    "        for t in range(img.shape[1]):\n",
    "            valorOr = img[s,t]\n",
    "            valorLim = rLimpiados[s,t]\n",
    "            if valorOr != valorLim:\n",
    "                resimg[s,t] = valorLim\n",
    "                \n",
    "    return resimg"
   ]
  },
  {
   "cell_type": "markdown",
   "metadata": {},
   "source": [
    "### Código para calcular el PSNR de dos imagenes."
   ]
  },
  {
   "cell_type": "code",
   "execution_count": 80,
   "metadata": {},
   "outputs": [],
   "source": [
    "def psnr(imgO,imgR):\n",
    "    \n",
    "    mse = np.mean((imgO-imgR)**2)\n",
    "    if mse == 0:\n",
    "        return 100\n",
    "    \n",
    "    return 10*np.log10((255**2)/mse)"
   ]
  },
  {
   "cell_type": "markdown",
   "metadata": {},
   "source": [
    "### Código de limpieza de imagenes con RVIN."
   ]
  },
  {
   "cell_type": "code",
   "execution_count": 81,
   "metadata": {},
   "outputs": [],
   "source": [
    "def limpiador(direccion):\n",
    "    \n",
    "    img = cv.imread(direccion, cv.IMREAD_GRAYSCALE)\n",
    "    imgO = img.copy()\n",
    "    imgS = imgSimil(img)\n",
    "    imgLS = imgLocalSimil(img,imgS)\n",
    "    (ruidosos,limpios) = filtrado(img,imgLS)\n",
    "    \n",
    "    PSNRp = 0\n",
    "    PSNRim = 1\n",
    "    \n",
    "    while PSNRim > PSNRp:\n",
    "        PSNRp = PSNRim\n",
    "        imgR = valFinal(imgO,imgLS,ruidosos)\n",
    "        PSNRim = psnr(imgO,imgR)\n",
    "        imgO = imgR.copy()\n",
    "    \n",
    "    return imgO"
   ]
  },
  {
   "cell_type": "code",
   "execution_count": 88,
   "metadata": {},
   "outputs": [
    {
     "output_type": "error",
     "ename": "OSError",
     "evalue": "cannot identify image file 'images/clean50_mandril_gray.png'",
     "traceback": [
      "\u001b[1;31m---------------------------------------------------------------------------\u001b[0m",
      "\u001b[1;31mOSError\u001b[0m                                   Traceback (most recent call last)",
      "\u001b[1;32m<ipython-input-88-d981da8a98fb>\u001b[0m in \u001b[0;36m<module>\u001b[1;34m\u001b[0m\n\u001b[0;32m      5\u001b[0m \u001b[0mcv\u001b[0m\u001b[1;33m.\u001b[0m\u001b[0mimwrite\u001b[0m\u001b[1;33m(\u001b[0m\u001b[1;34m\"images/clean50_mandril_gray.png\"\u001b[0m\u001b[1;33m,\u001b[0m\u001b[0mimL\u001b[0m\u001b[1;33m)\u001b[0m\u001b[1;33m\u001b[0m\u001b[1;33m\u001b[0m\u001b[0m\n\u001b[0;32m      6\u001b[0m \u001b[0mImage\u001b[0m\u001b[1;33m.\u001b[0m\u001b[0mopen\u001b[0m\u001b[1;33m(\u001b[0m\u001b[1;34m\"images/noise50_mandril_gray.png\"\u001b[0m\u001b[1;33m)\u001b[0m\u001b[1;33m\u001b[0m\u001b[1;33m\u001b[0m\u001b[0m\n\u001b[1;32m----> 7\u001b[1;33m \u001b[0mImage\u001b[0m\u001b[1;33m.\u001b[0m\u001b[0mopen\u001b[0m\u001b[1;33m(\u001b[0m\u001b[1;34m\"images/clean50_mandril_gray.png\"\u001b[0m\u001b[1;33m)\u001b[0m\u001b[1;33m\u001b[0m\u001b[1;33m\u001b[0m\u001b[0m\n\u001b[0m",
      "\u001b[1;32m~\\Anaconda3\\lib\\site-packages\\PIL\\Image.py\u001b[0m in \u001b[0;36mopen\u001b[1;34m(fp, mode)\u001b[0m\n\u001b[0;32m   2820\u001b[0m     \u001b[1;32mfor\u001b[0m \u001b[0mmessage\u001b[0m \u001b[1;32min\u001b[0m \u001b[0maccept_warnings\u001b[0m\u001b[1;33m:\u001b[0m\u001b[1;33m\u001b[0m\u001b[1;33m\u001b[0m\u001b[0m\n\u001b[0;32m   2821\u001b[0m         \u001b[0mwarnings\u001b[0m\u001b[1;33m.\u001b[0m\u001b[0mwarn\u001b[0m\u001b[1;33m(\u001b[0m\u001b[0mmessage\u001b[0m\u001b[1;33m)\u001b[0m\u001b[1;33m\u001b[0m\u001b[1;33m\u001b[0m\u001b[0m\n\u001b[1;32m-> 2822\u001b[1;33m     \u001b[1;32mraise\u001b[0m \u001b[0mIOError\u001b[0m\u001b[1;33m(\u001b[0m\u001b[1;34m\"cannot identify image file %r\"\u001b[0m \u001b[1;33m%\u001b[0m \u001b[1;33m(\u001b[0m\u001b[0mfilename\u001b[0m \u001b[1;32mif\u001b[0m \u001b[0mfilename\u001b[0m \u001b[1;32melse\u001b[0m \u001b[0mfp\u001b[0m\u001b[1;33m)\u001b[0m\u001b[1;33m)\u001b[0m\u001b[1;33m\u001b[0m\u001b[1;33m\u001b[0m\u001b[0m\n\u001b[0m\u001b[0;32m   2823\u001b[0m \u001b[1;33m\u001b[0m\u001b[0m\n\u001b[0;32m   2824\u001b[0m \u001b[1;33m\u001b[0m\u001b[0m\n",
      "\u001b[1;31mOSError\u001b[0m: cannot identify image file 'images/clean50_mandril_gray.png'"
     ]
    }
   ],
   "source": [
    "imL = limpiador(\"images/noise50_mandril_gray.png\")\n",
    "cv.imwrite(\"images/clean50_mandril_gray.png\",imL)\n",
    "Image.open(\"images/noise50_mandril_gray.png\")\n",
    "Image.open(\"images/clean50_mandril_gray.png\")\n"
   ]
  },
  {
   "cell_type": "code",
   "execution_count": null,
   "metadata": {},
   "outputs": [],
   "source": []
  }
 ],
 "metadata": {
  "kernelspec": {
   "display_name": "Python 3",
   "language": "python",
   "name": "python3"
  },
  "language_info": {
   "codemirror_mode": {
    "name": "ipython",
    "version": 3
   },
   "file_extension": ".py",
   "mimetype": "text/x-python",
   "name": "python",
   "nbconvert_exporter": "python",
   "pygments_lexer": "ipython3",
   "version": "3.7.3-final"
  }
 },
 "nbformat": 4,
 "nbformat_minor": 4
}