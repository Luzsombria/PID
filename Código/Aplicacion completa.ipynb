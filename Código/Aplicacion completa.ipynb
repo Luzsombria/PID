{
 "cells": [
  {
   "cell_type": "code",
   "execution_count": 1,
   "metadata": {},
   "outputs": [],
   "source": [
    "import math\n",
    "import numpy as np\n",
    "import matplotlib.pyplot as plt\n",
    "import cv2 as cv"
   ]
  },
  {
   "cell_type": "markdown",
   "metadata": {},
   "source": [
    "### Código para calcular la distancia geométrica entre un pixel y uno de sus vecinos."
   ]
  },
  {
   "cell_type": "code",
   "execution_count": 2,
   "metadata": {},
   "outputs": [],
   "source": [
    "def geoDist(x,y):\n",
    "    \n",
    "    (s,t) = x\n",
    "    (m,n) = y\n",
    "    \n",
    "    numD = np.power(((m+n)/2 - (s+t)/2),2) # DUDA IMPORTANTE\n",
    "    denD = 2*np.power(10,2)\n",
    "    \n",
    "    return math.exp(((-1)*numD)/denD)"
   ]
  },
  {
   "cell_type": "markdown",
   "metadata": {},
   "source": [
    "### Código para calcular la diferencia de intensidad entre un pixel y uno de sus vecinos."
   ]
  },
  {
   "cell_type": "code",
   "execution_count": 3,
   "metadata": {},
   "outputs": [],
   "source": [
    "def intDif(gx,gy):\n",
    "    \n",
    "    numI = np.power((gx-gy),2)\n",
    "    denI = 2*np.power(6.7,2)\n",
    "    \n",
    "    return math.exp(((-1)*numI)/denI)"
   ]
  },
  {
   "cell_type": "markdown",
   "metadata": {},
   "source": [
    "### Código para calcular la similitud entre un pixel y uno de sus vecinos."
   ]
  },
  {
   "cell_type": "code",
   "execution_count": 6,
   "metadata": {},
   "outputs": [],
   "source": [
    "def simil(img,x,y):\n",
    "    \n",
    "    (s,t) = x\n",
    "    (m,n) = y\n",
    "    \n",
    "    gx = img[s,t]\n",
    "    gy = img[m,n]\n",
    "    \n",
    "    return geoDist(x,y)*intDif(gx,gy)"
   ]
  },
  {
   "cell_type": "markdown",
   "metadata": {},
   "source": [
    "### Código para calcular la similitud local de cada pixel en una matriz."
   ]
  },
  {
   "cell_type": "code",
   "execution_count": 22,
   "metadata": {},
   "outputs": [],
   "source": [
    "def imgSimil(img):\n",
    "    \n",
    "    imgS = img.copy()\n",
    "    \n",
    "    for s in range(img.shape[0]):\n",
    "        for t in range(img.shape[1]):\n",
    "            if s > 1 or s < img.shape[0]-2 or t > 1 and t < img.shape[1]-2:\n",
    "                nx = list()\n",
    "                for i in range(-2,3):\n",
    "                    for j in range(-2,3):\n",
    "                        if not i==j==0:\n",
    "                            nx.append((s+i,t+j))\n",
    "                dsetaX = 0\n",
    "                for y in nx:\n",
    "                    dsetaX += simil(img,x,y)\n",
    "                imgS[s,t] = dsetaX\n",
    "            else:\n",
    "                imgS[s,t] = 0\n",
    "    \n",
    "    return imgS"
   ]
  },
  {
   "cell_type": "code",
   "execution_count": 24,
   "metadata": {},
   "outputs": [],
   "source": [
    "def imgLocalSimil(img, imgS):\n",
    "    \n",
    "    imgLS = img.copy()\n",
    "    \n",
    "    for s in range(img.shape[0]):\n",
    "        for t in range(img.shape[1]):\n",
    "            if s > 3 or s < img.shape[0]-4 or t > 3 and t < img.shape[1]-4:\n",
    "                nx = list()\n",
    "                for i in range(-2,3):\n",
    "                    for j in range(-2,3):\n",
    "                        if not i==j==0:\n",
    "                            nx.append((s+i,t+j))\n",
    "                dsetaY = 0\n",
    "                for y in nx:\n",
    "                    (m,n) = y\n",
    "                    dsetaY += imgS[m,n]\n",
    "                dsetaX = imgS[s,t]\n",
    "                medDsetaX = dsetaX / (dsetaY/24)\n",
    "                if medDsetaX > 2.5:\n",
    "                    imgLS[s,t] = 1\n",
    "                else:\n",
    "                    imgLS[s,t] = medDsetaX/2.5\n",
    "            else:\n",
    "                imgLS[s,t] = 0\n",
    "    \n",
    "    return imgLS"
   ]
  },
  {
   "cell_type": "markdown",
   "metadata": {},
   "source": [
    "### Código para calcular la región designada de un pixel."
   ]
  },
  {
   "cell_type": "code",
   "execution_count": 8,
   "metadata": {},
   "outputs": [],
   "source": [
    "def pixReg(img,x):\n",
    "    \n",
    "    w1 = 2\n",
    "    w2 = 4\n",
    "    tSigma = 0.12\n",
    "    \n",
    "    (m,n) = x\n",
    "    nx = list()\n",
    "    for i in range(-2,3):\n",
    "        for j in range(-2,3):\n",
    "            if not i==j==0:\n",
    "                nx.append((m+i,n+j))\n",
    "    \n",
    "    a = 0\n",
    "    for y in nx:\n",
    "        a += np.power(localSimil(img,y),w1)\n",
    "    \n",
    "    miX = 0\n",
    "    for y in nx:\n",
    "        (s,t) = y\n",
    "        miX += (np.power(localSimil(img,y),w1) * img[s,t]) / a\n",
    "    \n",
    "    b = 0\n",
    "    for y in nx:\n",
    "        b += np.power(localSimil(img,y),w2)\n",
    "    \n",
    "    intVarX = 0\n",
    "    for y in nx:\n",
    "        (s,t) = y\n",
    "        intVarX += (np.power(localSimil(img,y),w2) * np.power(img[s,t]-miX,2)) / b\n",
    "    \n",
    "    flatReg = list()\n",
    "    compReg = list()\n",
    "    if intVarX <= tSigma:\n",
    "        flatReg.append(x)\n",
    "    else:\n",
    "        compReg.append(x)\n",
    "        \n",
    "    return (flatReg,compReg)"
   ]
  },
  {
   "cell_type": "markdown",
   "metadata": {},
   "source": [
    "### Código para calcular la naturaleza de un pixel."
   ]
  },
  {
   "cell_type": "code",
   "execution_count": null,
   "metadata": {},
   "outputs": [],
   "source": [
    "def pixNat(img,x):\n",
    "    \n",
    "    (m,n) = x\n",
    "    iX = img[m,n]\n",
    "    \n",
    "    nx = list()\n",
    "    for i in range(-2,3):\n",
    "        for j in range(-2,3):\n",
    "            if not i==j==0:\n",
    "                nx.append((m+i,n+j))\n",
    "    \n",
    "    LSy = list()\n",
    "    for y in nx:\n",
    "        LSy.append(localSimil(img,y))\n",
    "    iY = max(LSy)\n",
    "    \n",
    "    iD = iX - iY\n",
    "    noise = list()\n",
    "    clean = list()\n",
    "    if iD > 5:\n",
    "        noise.append(x)\n",
    "    else:\n",
    "        clean.append(x)\n",
    "    \n",
    "    return (noise,clean)"
   ]
  },
  {
   "cell_type": "markdown",
   "metadata": {},
   "source": [
    "### Código para calcular el nivel de ruido en la zona."
   ]
  },
  {
   "cell_type": "code",
   "execution_count": 10,
   "metadata": {},
   "outputs": [
    {
     "ename": "SyntaxError",
     "evalue": "invalid syntax (<ipython-input-10-e4b9f47784e6>, line 6)",
     "output_type": "error",
     "traceback": [
      "\u001b[1;36m  File \u001b[1;32m\"<ipython-input-10-e4b9f47784e6>\"\u001b[1;36m, line \u001b[1;32m6\u001b[0m\n\u001b[1;33m    qC =\u001b[0m\n\u001b[1;37m        ^\u001b[0m\n\u001b[1;31mSyntaxError\u001b[0m\u001b[1;31m:\u001b[0m invalid syntax\n"
     ]
    }
   ],
   "source": [
    "def noiseLvl(img,x):\n",
    "    \n",
    "    (noise,clean) = pixNat(img,x)\n",
    "    \n",
    "    qN = len(noise)\n",
    "    qC = len(clean)\n",
    "    \n",
    "    "
   ]
  },
  {
   "cell_type": "markdown",
   "metadata": {},
   "source": [
    "### Código para calcular el valor de intensidad de un pixel ruidoso filtrado."
   ]
  },
  {
   "cell_type": "code",
   "execution_count": 13,
   "metadata": {},
   "outputs": [],
   "source": [
    "def intVal(img,x):\n",
    "    \n",
    "    (m,n) = x\n",
    "    \n",
    "    nx = list()\n",
    "    for i in range(-2,3):\n",
    "        for j in range(-2,3):\n",
    "            if not i==j==0:\n",
    "                nx.append((m+i,n+j))\n",
    "    \n",
    "    numG = 0\n",
    "    denG = 0\n",
    "    for y in nx:\n",
    "        (s,t) = y\n",
    "        D = geoDist(x,y)\n",
    "        L = np.power(localSimil(img,y),2)\n",
    "        Gy = img[s,t]\n",
    "        numG += D*L*Gy\n",
    "        denG += D*L\n",
    "    \n",
    "    Gxf = int(np.round(numG/denG))\n",
    "    return Gxf"
   ]
  },
  {
   "cell_type": "markdown",
   "metadata": {},
   "source": [
    "### Código para calcular el PSNR de dos imagenes."
   ]
  },
  {
   "cell_type": "code",
   "execution_count": 14,
   "metadata": {},
   "outputs": [],
   "source": [
    "def PSNR(imgO,imgR):\n",
    "    \n",
    "    mse = np.mean(np.power(imgO-imgR,2))\n",
    "    if mse == 0:\n",
    "        return 100\n",
    "    \n",
    "    psnr = 10*np.log10(np.power(255,2)/mse)\n",
    "    return psnr"
   ]
  },
  {
   "cell_type": "markdown",
   "metadata": {},
   "source": [
    "### Código para introducir RVIN en imagenes."
   ]
  },
  {
   "cell_type": "code",
   "execution_count": null,
   "metadata": {},
   "outputs": [],
   "source": [
    "cv.im"
   ]
  },
  {
   "cell_type": "markdown",
   "metadata": {},
   "source": [
    "### Código de limpieza de imagenes con RVIN."
   ]
  },
  {
   "cell_type": "code",
   "execution_count": 21,
   "metadata": {},
   "outputs": [
    {
     "data": {
      "text/plain": [
       "False"
      ]
     },
     "execution_count": 21,
     "metadata": {},
     "output_type": "execute_result"
    }
   ],
   "source": [
    "not (0 <= 1 and 1<=1)"
   ]
  },
  {
   "cell_type": "code",
   "execution_count": null,
   "metadata": {},
   "outputs": [],
   "source": []
  }
 ],
 "metadata": {
  "kernelspec": {
   "display_name": "Python 3",
   "language": "python",
   "name": "python3"
  },
  "language_info": {
   "codemirror_mode": {
    "name": "ipython",
    "version": 3
   },
   "file_extension": ".py",
   "mimetype": "text/x-python",
   "name": "python",
   "nbconvert_exporter": "python",
   "pygments_lexer": "ipython3",
   "version": "3.8.3"
  }
 },
 "nbformat": 4,
 "nbformat_minor": 4
}
