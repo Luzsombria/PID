{
 "cells": [
  {
   "cell_type": "markdown",
   "metadata": {},
   "source": [
    "Función/es para calcular la Similaridad Local(LS)"
   ]
  },
  {
   "cell_type": "code",
   "execution_count": null,
   "metadata": {},
   "outputs": [],
   "source": [
    "import math"
   ]
  },
  {
   "cell_type": "code",
   "execution_count": 4,
   "metadata": {},
   "outputs": [],
   "source": [
    "#Función para obtener la similaridad local entre dos píxeles\n",
    "def LS(x,y,gx,gy):\n",
    "    #Valores de x e y\n",
    "    (s,t) = x\n",
    "    (m,n) = y\n",
    "    \n",
    "    #Valores de sigma indicadas en el artículo base\n",
    "    sigmaD = 10\n",
    "    sigmaI = 6.7\n",
    "    \n",
    "    #Medias de x e y\n",
    "    mx = (s+t)/2\n",
    "    my = (m+n)/2\n",
    "    \n",
    "    #Preparamos D(x,y)\n",
    "    numeradorD = abs(my-mx)^2\n",
    "    denominadorD = 2*sigmaD^2\n",
    "    dxy = math.exp((-numeradorD)/denominadorD)\n",
    "    \n",
    "    #Preparamos I(x,y)\n",
    "    numeradorI = abs(gx-gy)^2\n",
    "    denominadorI = 2*sigmaI^2\n",
    "    ixy = math.exp((-numeradorI)/denominadorI)\n",
    "    \n",
    "    #Calculamos S(x,y) y lo devolvemos\n",
    "    sxy = dxy*ixy\n",
    "    return sxy\n",
    "\n",
    "\n",
    "#Función auxiliar para calcular la media de los vecinos de x\n",
    "def mediaSumLs(listaSxy):\n",
    "    lon = len(listaSxy)\n",
    "    suma = sum(listaSxy)\n",
    "    return suma/lon\n",
    "\n",
    "\n",
    "#Con esta función vamos a terminar los cálculos para el primer paso del reconocimiento de los píxeles con y \n",
    "#sin ruido\n",
    "def finalLS(pixel,vecinos):\n",
    "    #Creamos una lista en la que guardaremos las LS de los vecinos entre si\n",
    "    listaLSVecinos = []\n",
    "    \n",
    "    #Creamos una lista para las LS del pixel con los vecinos\n",
    "    listaLS = []\n",
    "    \n",
    "    #Creamos un doble bucle para rellenar la lista anterior\n",
    "    for v in vecinos:\n",
    "        copia = vecinos\n",
    "        copia.remove(v)\n",
    "        \n",
    "        #Recordemos que tanto v como pixel llevan dentro (posición en eje, intensidad de gris)\n",
    "        (p1,g1) = v\n",
    "        for v2 in copia:\n",
    "            (p2,g2) = v2\n",
    "            simV = LS(p1,p2,g1,g2)\n",
    "            listaLSVecinos.append(simV)\n",
    "    \n",
    "    #Ya tenemos la media de los vecinos\n",
    "    mediaY = mediaSumLS(listaLSVecinos)\n",
    "    \n",
    "    #Ahora rellenamos la lista de LS de x\n",
    "    for v in vecinos:\n",
    "        (p1,g1) = pixel\n",
    "        (p2,g2) = v\n",
    "        simP = LS(p1,p2,g1,g2)\n",
    "        listaLS.append(simP)\n",
    "    \n",
    "    #Finalmente calculamos la media del pixel y normalizamos\n",
    "    mediaX = sum(listaLs)/mediaY\n",
    "    res = 0\n",
    "    if mediaX > 2.5:\n",
    "        res = 1\n",
    "    else:\n",
    "        res = mediaX/2.5\n",
    "    \n",
    "    return res"
   ]
  }
 ],
 "metadata": {
  "kernelspec": {
   "display_name": "Python 3",
   "language": "python",
   "name": "python3"
  },
  "language_info": {
   "codemirror_mode": {
    "name": "ipython",
    "version": 3
   },
   "file_extension": ".py",
   "mimetype": "text/x-python",
   "name": "python",
   "nbconvert_exporter": "python",
   "pygments_lexer": "ipython3",
   "version": "3.7.3"
  }
 },
 "nbformat": 4,
 "nbformat_minor": 2
}
